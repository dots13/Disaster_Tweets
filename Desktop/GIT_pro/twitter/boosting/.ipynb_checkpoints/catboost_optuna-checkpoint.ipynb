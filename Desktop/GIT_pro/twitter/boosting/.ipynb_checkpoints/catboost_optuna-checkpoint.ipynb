{
 "cells": [
  {
   "cell_type": "code",
   "execution_count": 2,
   "id": "54d5e9db",
   "metadata": {},
   "outputs": [],
   "source": [
    "import pandas as pd\n",
    "import numpy as np\n",
    "import catboost\n",
    "import optuna\n",
    "import pickle\n",
    "import os\n",
    "from scipy import sparse"
   ]
  },
  {
   "cell_type": "code",
   "execution_count": 31,
   "id": "8c7c321a",
   "metadata": {},
   "outputs": [],
   "source": [
    "from sklearn.naive_bayes import MultinomialNB\n",
    "from sklearn.metrics import f1_score, accuracy_score, precision_score, recall_score"
   ]
  },
  {
   "cell_type": "code",
   "execution_count": 4,
   "id": "4316de9a",
   "metadata": {},
   "outputs": [],
   "source": [
    "from catboost import CatBoostClassifier, Pool\n",
    "from optuna.integration import CatBoostPruningCallback\n",
    "from sklearn.metrics import accuracy_score, confusion_matrix, classification_report"
   ]
  },
  {
   "cell_type": "code",
   "execution_count": 33,
   "id": "3d3207dc",
   "metadata": {},
   "outputs": [
    {
     "data": {
      "text/html": [
       "        <script type=\"text/javascript\">\n",
       "        window.PlotlyConfig = {MathJaxConfig: 'local'};\n",
       "        if (window.MathJax && window.MathJax.Hub && window.MathJax.Hub.Config) {window.MathJax.Hub.Config({SVG: {font: \"STIX-Web\"}});}\n",
       "        if (typeof require !== 'undefined') {\n",
       "        require.undef(\"plotly\");\n",
       "        requirejs.config({\n",
       "            paths: {\n",
       "                'plotly': ['https://cdn.plot.ly/plotly-2.12.1.min']\n",
       "            }\n",
       "        });\n",
       "        require(['plotly'], function(Plotly) {\n",
       "            window._Plotly = Plotly;\n",
       "        });\n",
       "        }\n",
       "        </script>\n",
       "        "
      ]
     },
     "metadata": {},
     "output_type": "display_data"
    }
   ],
   "source": [
    "import os\n",
    "import matplotlib.pyplot as plt#visualization\n",
    "%matplotlib inline\n",
    "import seaborn as sns#visualization\n",
    "import plotly.offline as py #visualization\n",
    "py.init_notebook_mode(connected=True)#visualization\n",
    "import plotly.graph_objs as go#visualization\n",
    "import plotly.tools as tls#visualization\n",
    "import plotly.figure_factory as ff\n",
    "from plotly.offline import init_notebook_mode, iplot"
   ]
  },
  {
   "cell_type": "code",
   "execution_count": 6,
   "id": "949ae3a0",
   "metadata": {},
   "outputs": [],
   "source": [
    "X_train_tfidf_minmax = sparse.load_npz(\"../data/X_train_tfidf_minmax.npz\")\n",
    "X_test_tfidf_minmax = sparse.load_npz(\"../data/X_test_tfidf_minmax.npz\")\n",
    "#####\n",
    "X_test_tfidf_minmax_f = sparse.load_npz(\"../data/X_test_tfidf_minmax_f.npz\")\n",
    "#####\n",
    "y_train_np = np.load('../data/y_train.npy')\n",
    "y_test_np = np.load('../data/y_test.npy')"
   ]
  },
  {
   "cell_type": "code",
   "execution_count": 7,
   "id": "eca2f873",
   "metadata": {},
   "outputs": [],
   "source": [
    "### SVD\n",
    "svd = pickle.load(open('../classical_ML/TruncatedSVD_500.pickle', 'rb'))"
   ]
  },
  {
   "cell_type": "code",
   "execution_count": 8,
   "id": "0556c415",
   "metadata": {},
   "outputs": [],
   "source": [
    "X_train_svd = svd.transform(X_train_tfidf_minmax)\n",
    "X_test_svd = svd.transform(X_test_tfidf_minmax)\n",
    "X_test_svd_f = svd.transform(X_test_tfidf_minmax_f)"
   ]
  },
  {
   "cell_type": "code",
   "execution_count": 9,
   "id": "e3c47336",
   "metadata": {},
   "outputs": [
    {
     "name": "stdout",
     "output_type": "stream",
     "text": [
      "(5329, 500)\n",
      "(2284, 500)\n",
      "(3263, 500)\n"
     ]
    }
   ],
   "source": [
    "print(X_train_svd.shape)\n",
    "print(X_test_svd.shape)\n",
    "print(X_test_svd_f.shape)"
   ]
  },
  {
   "cell_type": "code",
   "execution_count": 10,
   "id": "7f2c9630",
   "metadata": {},
   "outputs": [],
   "source": [
    "def objective(trial):\n",
    "    global gbm\n",
    "    train_x = X_train_svd\n",
    "    valid_x = X_test_svd\n",
    "    train_y = y_train_np\n",
    "    valid_y = y_test_np\n",
    "    \n",
    "    param = {\n",
    "        \"objective\": trial.suggest_categorical(\"objective\", [\"Logloss\", \"CrossEntropy\"]),\n",
    "        \"colsample_bylevel\": trial.suggest_float(\"colsample_bylevel\", 0.01, 0.1, log=True),\n",
    "        \"depth\": trial.suggest_int(\"depth\", 1, 6),\n",
    "        \"boosting_type\": trial.suggest_categorical(\"boosting_type\", [\"Ordered\", \"Plain\"]),\n",
    "        \"bootstrap_type\": trial.suggest_categorical(\n",
    "            \"bootstrap_type\", [\"Bayesian\", \"Bernoulli\", \"MVS\"]\n",
    "        ),\n",
    "        \"eval_metric\": \"F1\",\n",
    "    }\n",
    "\n",
    "    if param[\"bootstrap_type\"] == \"Bayesian\":\n",
    "        param[\"bagging_temperature\"] = trial.suggest_float(\"bagging_temperature\", 0, 10)\n",
    "    elif param[\"bootstrap_type\"] == \"Bernoulli\":\n",
    "        param[\"subsample\"] = trial.suggest_float(\"subsample\", 0.1, 1, log=True)\n",
    "    \n",
    "    gbm = CatBoostClassifier(**param)\n",
    "\n",
    "    pruning_callback = CatBoostPruningCallback(trial, \"F1\")\n",
    "    \n",
    "    gbm.fit(\n",
    "        train_x,\n",
    "        train_y,\n",
    "        eval_set=[(valid_x, valid_y)],\n",
    "        verbose=0,\n",
    "        early_stopping_rounds=100,\n",
    "        callbacks=[pruning_callback],\n",
    "    )\n",
    "    trial.set_user_attr(key=\"best_booster\", value=gbm)\n",
    "    # evoke pruning manually.\n",
    "    pruning_callback.check_pruned()\n",
    "    \n",
    "    preds = gbm.predict(valid_x)\n",
    "    f1 = f1_score(valid_y, preds)\n",
    "    return f1"
   ]
  },
  {
   "cell_type": "code",
   "execution_count": 16,
   "id": "fa65d9b2",
   "metadata": {},
   "outputs": [],
   "source": [
    "def callback(study, trial):\n",
    "    if study.best_trial.number == trial.number:\n",
    "        study.set_user_attr(key=\"best_booster\", value=trial.user_attrs[\"best_booster\"])"
   ]
  },
  {
   "cell_type": "code",
   "execution_count": 17,
   "id": "74af108d",
   "metadata": {},
   "outputs": [
    {
     "name": "stderr",
     "output_type": "stream",
     "text": [
      "\u001b[32m[I 2022-09-13 02:14:42,962]\u001b[0m A new study created in memory with name: no-name-edd22a6e-5ae8-419a-9868-75d1e1d781e8\u001b[0m\n",
      "C:\\Users\\Me\\AppData\\Local\\Temp\\ipykernel_24852\\3980546991.py:26: ExperimentalWarning:\n",
      "\n",
      "CatBoostPruningCallback is experimental (supported from v3.0.0). The interface can change in the future.\n",
      "\n",
      "\u001b[32m[I 2022-09-13 02:14:49,320]\u001b[0m Trial 0 finished with value: 0.6862527716186253 and parameters: {'objective': 'CrossEntropy', 'colsample_bylevel': 0.015979932738294494, 'depth': 3, 'boosting_type': 'Plain', 'bootstrap_type': 'Bernoulli', 'subsample': 0.10588913580709412}. Best is trial 0 with value: 0.6862527716186253.\u001b[0m\n",
      "C:\\Users\\Me\\AppData\\Local\\Temp\\ipykernel_24852\\3980546991.py:26: ExperimentalWarning:\n",
      "\n",
      "CatBoostPruningCallback is experimental (supported from v3.0.0). The interface can change in the future.\n",
      "\n",
      "\u001b[32m[I 2022-09-13 02:15:02,043]\u001b[0m Trial 1 finished with value: 0.7176470588235294 and parameters: {'objective': 'Logloss', 'colsample_bylevel': 0.09501069003391607, 'depth': 2, 'boosting_type': 'Ordered', 'bootstrap_type': 'Bayesian', 'bagging_temperature': 1.3037408364617398}. Best is trial 1 with value: 0.7176470588235294.\u001b[0m\n",
      "C:\\Users\\Me\\AppData\\Local\\Temp\\ipykernel_24852\\3980546991.py:26: ExperimentalWarning:\n",
      "\n",
      "CatBoostPruningCallback is experimental (supported from v3.0.0). The interface can change in the future.\n",
      "\n",
      "\u001b[32m[I 2022-09-13 02:15:17,752]\u001b[0m Trial 2 finished with value: 0.7209686296092459 and parameters: {'objective': 'Logloss', 'colsample_bylevel': 0.07465148484423507, 'depth': 6, 'boosting_type': 'Plain', 'bootstrap_type': 'Bayesian', 'bagging_temperature': 5.408499685295366}. Best is trial 2 with value: 0.7209686296092459.\u001b[0m\n",
      "C:\\Users\\Me\\AppData\\Local\\Temp\\ipykernel_24852\\3980546991.py:26: ExperimentalWarning:\n",
      "\n",
      "CatBoostPruningCallback is experimental (supported from v3.0.0). The interface can change in the future.\n",
      "\n",
      "\u001b[32m[I 2022-09-13 02:15:26,183]\u001b[0m Trial 3 finished with value: 0.7263948497854078 and parameters: {'objective': 'CrossEntropy', 'colsample_bylevel': 0.03077720828521488, 'depth': 4, 'boosting_type': 'Plain', 'bootstrap_type': 'Bernoulli', 'subsample': 0.5716800297798286}. Best is trial 3 with value: 0.7263948497854078.\u001b[0m\n",
      "C:\\Users\\Me\\AppData\\Local\\Temp\\ipykernel_24852\\3980546991.py:26: ExperimentalWarning:\n",
      "\n",
      "CatBoostPruningCallback is experimental (supported from v3.0.0). The interface can change in the future.\n",
      "\n",
      "\u001b[32m[I 2022-09-13 02:15:36,432]\u001b[0m Trial 4 finished with value: 0.6964091403699674 and parameters: {'objective': 'CrossEntropy', 'colsample_bylevel': 0.016221434603766727, 'depth': 2, 'boosting_type': 'Ordered', 'bootstrap_type': 'Bayesian', 'bagging_temperature': 1.0863425026647466}. Best is trial 3 with value: 0.7263948497854078.\u001b[0m\n",
      "C:\\Users\\Me\\AppData\\Local\\Temp\\ipykernel_24852\\3980546991.py:26: ExperimentalWarning:\n",
      "\n",
      "CatBoostPruningCallback is experimental (supported from v3.0.0). The interface can change in the future.\n",
      "\n",
      "\u001b[32m[I 2022-09-13 02:15:45,991]\u001b[0m Trial 5 finished with value: 0.7384780278670955 and parameters: {'objective': 'Logloss', 'colsample_bylevel': 0.09910235787872214, 'depth': 3, 'boosting_type': 'Plain', 'bootstrap_type': 'MVS'}. Best is trial 5 with value: 0.7384780278670955.\u001b[0m\n",
      "C:\\Users\\Me\\AppData\\Local\\Temp\\ipykernel_24852\\3980546991.py:26: ExperimentalWarning:\n",
      "\n",
      "CatBoostPruningCallback is experimental (supported from v3.0.0). The interface can change in the future.\n",
      "\n",
      "\u001b[32m[I 2022-09-13 02:15:47,498]\u001b[0m Trial 6 pruned. Trial was pruned at iteration 17.\u001b[0m\n",
      "\u001b[32m[I 2022-09-13 02:15:48,695]\u001b[0m Trial 7 pruned. Trial was pruned at iteration 5.\u001b[0m\n",
      "\u001b[32m[I 2022-09-13 02:16:04,764]\u001b[0m Trial 8 finished with value: 0.7279651795429815 and parameters: {'objective': 'CrossEntropy', 'colsample_bylevel': 0.045480551904670756, 'depth': 6, 'boosting_type': 'Plain', 'bootstrap_type': 'Bayesian', 'bagging_temperature': 1.6392968064782454}. Best is trial 5 with value: 0.7384780278670955.\u001b[0m\n",
      "C:\\Users\\Me\\AppData\\Local\\Temp\\ipykernel_24852\\3980546991.py:26: ExperimentalWarning:\n",
      "\n",
      "CatBoostPruningCallback is experimental (supported from v3.0.0). The interface can change in the future.\n",
      "\n",
      "\u001b[32m[I 2022-09-13 02:16:06,079]\u001b[0m Trial 9 pruned. Trial was pruned at iteration 21.\u001b[0m\n",
      "\u001b[32m[I 2022-09-13 02:16:21,437]\u001b[0m Trial 10 finished with value: 0.7363927427961579 and parameters: {'objective': 'Logloss', 'colsample_bylevel': 0.03432754621131097, 'depth': 4, 'boosting_type': 'Ordered', 'bootstrap_type': 'MVS'}. Best is trial 5 with value: 0.7384780278670955.\u001b[0m\n",
      "C:\\Users\\Me\\AppData\\Local\\Temp\\ipykernel_24852\\3980546991.py:26: ExperimentalWarning:\n",
      "\n",
      "CatBoostPruningCallback is experimental (supported from v3.0.0). The interface can change in the future.\n",
      "\n",
      "\u001b[32m[I 2022-09-13 02:16:22,607]\u001b[0m Trial 11 pruned. Trial was pruned at iteration 5.\u001b[0m\n",
      "\u001b[32m[I 2022-09-13 02:16:23,744]\u001b[0m Trial 12 pruned. Trial was pruned at iteration 5.\u001b[0m\n",
      "\u001b[32m[I 2022-09-13 02:16:45,229]\u001b[0m Trial 13 finished with value: 0.7421584263689527 and parameters: {'objective': 'Logloss', 'colsample_bylevel': 0.05228322690351833, 'depth': 5, 'boosting_type': 'Ordered', 'bootstrap_type': 'MVS'}. Best is trial 13 with value: 0.7421584263689527.\u001b[0m\n",
      "C:\\Users\\Me\\AppData\\Local\\Temp\\ipykernel_24852\\3980546991.py:26: ExperimentalWarning:\n",
      "\n",
      "CatBoostPruningCallback is experimental (supported from v3.0.0). The interface can change in the future.\n",
      "\n",
      "\u001b[32m[I 2022-09-13 02:16:52,172]\u001b[0m Trial 14 finished with value: 0.7355950457727517 and parameters: {'objective': 'Logloss', 'colsample_bylevel': 0.05702469885889074, 'depth': 5, 'boosting_type': 'Plain', 'bootstrap_type': 'MVS'}. Best is trial 13 with value: 0.7421584263689527.\u001b[0m\n",
      "C:\\Users\\Me\\AppData\\Local\\Temp\\ipykernel_24852\\3980546991.py:26: ExperimentalWarning:\n",
      "\n",
      "CatBoostPruningCallback is experimental (supported from v3.0.0). The interface can change in the future.\n",
      "\n",
      "\u001b[32m[I 2022-09-13 02:16:53,266]\u001b[0m Trial 15 pruned. Trial was pruned at iteration 5.\u001b[0m\n",
      "\u001b[32m[I 2022-09-13 02:17:03,518]\u001b[0m Trial 16 finished with value: 0.7381974248927038 and parameters: {'objective': 'Logloss', 'colsample_bylevel': 0.09984170445957019, 'depth': 5, 'boosting_type': 'Plain', 'bootstrap_type': 'MVS'}. Best is trial 13 with value: 0.7421584263689527.\u001b[0m\n",
      "C:\\Users\\Me\\AppData\\Local\\Temp\\ipykernel_24852\\3980546991.py:26: ExperimentalWarning:\n",
      "\n",
      "CatBoostPruningCallback is experimental (supported from v3.0.0). The interface can change in the future.\n",
      "\n",
      "\u001b[32m[I 2022-09-13 02:17:04,639]\u001b[0m Trial 17 pruned. Trial was pruned at iteration 5.\u001b[0m\n",
      "\u001b[32m[I 2022-09-13 02:17:05,914]\u001b[0m Trial 18 pruned. Trial was pruned at iteration 5.\u001b[0m\n",
      "\u001b[32m[I 2022-09-13 02:17:07,087]\u001b[0m Trial 19 pruned. Trial was pruned at iteration 5.\u001b[0m\n",
      "\u001b[32m[I 2022-09-13 02:17:08,377]\u001b[0m Trial 20 pruned. Trial was pruned at iteration 5.\u001b[0m\n",
      "\u001b[32m[I 2022-09-13 02:17:18,364]\u001b[0m Trial 21 finished with value: 0.7363395225464191 and parameters: {'objective': 'Logloss', 'colsample_bylevel': 0.09703284578080176, 'depth': 5, 'boosting_type': 'Plain', 'bootstrap_type': 'MVS'}. Best is trial 13 with value: 0.7421584263689527.\u001b[0m\n",
      "C:\\Users\\Me\\AppData\\Local\\Temp\\ipykernel_24852\\3980546991.py:26: ExperimentalWarning:\n",
      "\n",
      "CatBoostPruningCallback is experimental (supported from v3.0.0). The interface can change in the future.\n",
      "\n",
      "\u001b[32m[I 2022-09-13 02:17:29,158]\u001b[0m Trial 22 finished with value: 0.7372340425531916 and parameters: {'objective': 'Logloss', 'colsample_bylevel': 0.07976585512896249, 'depth': 5, 'boosting_type': 'Plain', 'bootstrap_type': 'MVS'}. Best is trial 13 with value: 0.7421584263689527.\u001b[0m\n",
      "C:\\Users\\Me\\AppData\\Local\\Temp\\ipykernel_24852\\3980546991.py:26: ExperimentalWarning:\n",
      "\n",
      "CatBoostPruningCallback is experimental (supported from v3.0.0). The interface can change in the future.\n",
      "\n",
      "\u001b[32m[I 2022-09-13 02:17:40,639]\u001b[0m Trial 23 finished with value: 0.7306666666666666 and parameters: {'objective': 'Logloss', 'colsample_bylevel': 0.09743985869838034, 'depth': 5, 'boosting_type': 'Plain', 'bootstrap_type': 'MVS'}. Best is trial 13 with value: 0.7421584263689527.\u001b[0m\n",
      "C:\\Users\\Me\\AppData\\Local\\Temp\\ipykernel_24852\\3980546991.py:26: ExperimentalWarning:\n",
      "\n",
      "CatBoostPruningCallback is experimental (supported from v3.0.0). The interface can change in the future.\n",
      "\n"
     ]
    },
    {
     "name": "stderr",
     "output_type": "stream",
     "text": [
      "\u001b[32m[I 2022-09-13 02:17:41,772]\u001b[0m Trial 24 pruned. Trial was pruned at iteration 5.\u001b[0m\n",
      "\u001b[32m[I 2022-09-13 02:17:42,986]\u001b[0m Trial 25 pruned. Trial was pruned at iteration 5.\u001b[0m\n",
      "\u001b[32m[I 2022-09-13 02:17:53,741]\u001b[0m Trial 26 finished with value: 0.7304159913560238 and parameters: {'objective': 'Logloss', 'colsample_bylevel': 0.08411934216733007, 'depth': 6, 'boosting_type': 'Plain', 'bootstrap_type': 'MVS'}. Best is trial 13 with value: 0.7421584263689527.\u001b[0m\n",
      "C:\\Users\\Me\\AppData\\Local\\Temp\\ipykernel_24852\\3980546991.py:26: ExperimentalWarning:\n",
      "\n",
      "CatBoostPruningCallback is experimental (supported from v3.0.0). The interface can change in the future.\n",
      "\n",
      "\u001b[32m[I 2022-09-13 02:17:56,088]\u001b[0m Trial 27 pruned. Trial was pruned at iteration 107.\u001b[0m\n",
      "\u001b[32m[I 2022-09-13 02:17:57,564]\u001b[0m Trial 28 pruned. Trial was pruned at iteration 9.\u001b[0m\n",
      "\u001b[32m[I 2022-09-13 02:17:58,836]\u001b[0m Trial 29 pruned. Trial was pruned at iteration 5.\u001b[0m\n",
      "\u001b[32m[I 2022-09-13 02:18:00,800]\u001b[0m Trial 30 pruned. Trial was pruned at iteration 77.\u001b[0m\n",
      "\u001b[32m[I 2022-09-13 02:18:11,760]\u001b[0m Trial 31 finished with value: 0.7365079365079366 and parameters: {'objective': 'Logloss', 'colsample_bylevel': 0.07674440307806689, 'depth': 5, 'boosting_type': 'Plain', 'bootstrap_type': 'MVS'}. Best is trial 13 with value: 0.7421584263689527.\u001b[0m\n",
      "C:\\Users\\Me\\AppData\\Local\\Temp\\ipykernel_24852\\3980546991.py:26: ExperimentalWarning:\n",
      "\n",
      "CatBoostPruningCallback is experimental (supported from v3.0.0). The interface can change in the future.\n",
      "\n",
      "\u001b[32m[I 2022-09-13 02:18:22,264]\u001b[0m Trial 32 finished with value: 0.7321814254859611 and parameters: {'objective': 'Logloss', 'colsample_bylevel': 0.08960024032042932, 'depth': 6, 'boosting_type': 'Plain', 'bootstrap_type': 'MVS'}. Best is trial 13 with value: 0.7421584263689527.\u001b[0m\n",
      "C:\\Users\\Me\\AppData\\Local\\Temp\\ipykernel_24852\\3980546991.py:26: ExperimentalWarning:\n",
      "\n",
      "CatBoostPruningCallback is experimental (supported from v3.0.0). The interface can change in the future.\n",
      "\n",
      "\u001b[32m[I 2022-09-13 02:18:23,803]\u001b[0m Trial 33 pruned. Trial was pruned at iteration 42.\u001b[0m\n",
      "\u001b[32m[I 2022-09-13 02:18:24,985]\u001b[0m Trial 34 pruned. Trial was pruned at iteration 5.\u001b[0m\n",
      "\u001b[32m[I 2022-09-13 02:18:35,695]\u001b[0m Trial 35 finished with value: 0.7314715359828142 and parameters: {'objective': 'Logloss', 'colsample_bylevel': 0.06872500558288555, 'depth': 6, 'boosting_type': 'Plain', 'bootstrap_type': 'MVS'}. Best is trial 13 with value: 0.7421584263689527.\u001b[0m\n",
      "C:\\Users\\Me\\AppData\\Local\\Temp\\ipykernel_24852\\3980546991.py:26: ExperimentalWarning:\n",
      "\n",
      "CatBoostPruningCallback is experimental (supported from v3.0.0). The interface can change in the future.\n",
      "\n",
      "\u001b[32m[I 2022-09-13 02:18:36,878]\u001b[0m Trial 36 pruned. Trial was pruned at iteration 5.\u001b[0m\n",
      "\u001b[32m[I 2022-09-13 02:18:41,306]\u001b[0m Trial 37 pruned. Trial was pruned at iteration 103.\u001b[0m\n",
      "\u001b[32m[I 2022-09-13 02:18:42,388]\u001b[0m Trial 38 pruned. Trial was pruned at iteration 5.\u001b[0m\n",
      "\u001b[32m[I 2022-09-13 02:18:43,450]\u001b[0m Trial 39 pruned. Trial was pruned at iteration 5.\u001b[0m\n",
      "\u001b[32m[I 2022-09-13 02:18:46,164]\u001b[0m Trial 40 pruned. Trial was pruned at iteration 18.\u001b[0m\n",
      "\u001b[32m[I 2022-09-13 02:18:47,748]\u001b[0m Trial 41 pruned. Trial was pruned at iteration 31.\u001b[0m\n",
      "\u001b[32m[I 2022-09-13 02:18:49,298]\u001b[0m Trial 42 pruned. Trial was pruned at iteration 31.\u001b[0m\n",
      "\u001b[32m[I 2022-09-13 02:19:01,160]\u001b[0m Trial 43 finished with value: 0.7332624867162592 and parameters: {'objective': 'Logloss', 'colsample_bylevel': 0.058703784782005636, 'depth': 6, 'boosting_type': 'Plain', 'bootstrap_type': 'MVS'}. Best is trial 13 with value: 0.7421584263689527.\u001b[0m\n",
      "C:\\Users\\Me\\AppData\\Local\\Temp\\ipykernel_24852\\3980546991.py:26: ExperimentalWarning:\n",
      "\n",
      "CatBoostPruningCallback is experimental (supported from v3.0.0). The interface can change in the future.\n",
      "\n",
      "\u001b[32m[I 2022-09-13 02:19:02,303]\u001b[0m Trial 44 pruned. Trial was pruned at iteration 5.\u001b[0m\n",
      "\u001b[32m[I 2022-09-13 02:19:03,614]\u001b[0m Trial 45 pruned. Trial was pruned at iteration 5.\u001b[0m\n",
      "\u001b[32m[I 2022-09-13 02:19:05,034]\u001b[0m Trial 46 pruned. Trial was pruned at iteration 16.\u001b[0m\n",
      "\u001b[32m[I 2022-09-13 02:19:06,237]\u001b[0m Trial 47 pruned. Trial was pruned at iteration 8.\u001b[0m\n",
      "\u001b[32m[I 2022-09-13 02:19:07,583]\u001b[0m Trial 48 pruned. Trial was pruned at iteration 5.\u001b[0m\n",
      "\u001b[32m[I 2022-09-13 02:19:08,870]\u001b[0m Trial 49 pruned. Trial was pruned at iteration 5.\u001b[0m\n",
      "\u001b[32m[I 2022-09-13 02:19:10,420]\u001b[0m Trial 50 pruned. Trial was pruned at iteration 8.\u001b[0m\n",
      "\u001b[32m[I 2022-09-13 02:19:11,671]\u001b[0m Trial 51 pruned. Trial was pruned at iteration 5.\u001b[0m\n",
      "\u001b[32m[I 2022-09-13 02:19:12,993]\u001b[0m Trial 52 pruned. Trial was pruned at iteration 5.\u001b[0m\n",
      "\u001b[32m[I 2022-09-13 02:19:14,163]\u001b[0m Trial 53 pruned. Trial was pruned at iteration 5.\u001b[0m\n",
      "\u001b[32m[I 2022-09-13 02:19:15,577]\u001b[0m Trial 54 pruned. Trial was pruned at iteration 13.\u001b[0m\n",
      "\u001b[32m[I 2022-09-13 02:19:16,933]\u001b[0m Trial 55 pruned. Trial was pruned at iteration 5.\u001b[0m\n",
      "\u001b[32m[I 2022-09-13 02:19:18,150]\u001b[0m Trial 56 pruned. Trial was pruned at iteration 5.\u001b[0m\n",
      "\u001b[32m[I 2022-09-13 02:19:19,421]\u001b[0m Trial 57 pruned. Trial was pruned at iteration 5.\u001b[0m\n",
      "\u001b[32m[I 2022-09-13 02:19:23,036]\u001b[0m Trial 58 pruned. Trial was pruned at iteration 209.\u001b[0m\n",
      "\u001b[32m[I 2022-09-13 02:19:24,434]\u001b[0m Trial 59 pruned. Trial was pruned at iteration 20.\u001b[0m\n",
      "\u001b[32m[I 2022-09-13 02:19:26,382]\u001b[0m Trial 60 pruned. Trial was pruned at iteration 12.\u001b[0m\n",
      "\u001b[32m[I 2022-09-13 02:19:27,988]\u001b[0m Trial 61 pruned. Trial was pruned at iteration 5.\u001b[0m\n",
      "\u001b[32m[I 2022-09-13 02:19:29,661]\u001b[0m Trial 62 pruned. Trial was pruned at iteration 21.\u001b[0m\n",
      "\u001b[32m[I 2022-09-13 02:19:31,346]\u001b[0m Trial 63 pruned. Trial was pruned at iteration 18.\u001b[0m\n",
      "\u001b[32m[I 2022-09-13 02:19:32,689]\u001b[0m Trial 64 pruned. Trial was pruned at iteration 5.\u001b[0m\n",
      "\u001b[32m[I 2022-09-13 02:19:34,100]\u001b[0m Trial 65 pruned. Trial was pruned at iteration 13.\u001b[0m\n",
      "\u001b[32m[I 2022-09-13 02:19:35,462]\u001b[0m Trial 66 pruned. Trial was pruned at iteration 13.\u001b[0m\n",
      "\u001b[32m[I 2022-09-13 02:19:36,649]\u001b[0m Trial 67 pruned. Trial was pruned at iteration 5.\u001b[0m\n",
      "\u001b[32m[I 2022-09-13 02:19:37,990]\u001b[0m Trial 68 pruned. Trial was pruned at iteration 17.\u001b[0m\n",
      "\u001b[32m[I 2022-09-13 02:19:39,199]\u001b[0m Trial 69 pruned. Trial was pruned at iteration 5.\u001b[0m\n",
      "\u001b[32m[I 2022-09-13 02:19:40,697]\u001b[0m Trial 70 pruned. Trial was pruned at iteration 27.\u001b[0m\n",
      "\u001b[32m[I 2022-09-13 02:19:42,279]\u001b[0m Trial 71 pruned. Trial was pruned at iteration 21.\u001b[0m\n",
      "\u001b[32m[I 2022-09-13 02:19:47,043]\u001b[0m Trial 72 pruned. Trial was pruned at iteration 294.\u001b[0m\n",
      "\u001b[32m[I 2022-09-13 02:19:49,817]\u001b[0m Trial 73 pruned. Trial was pruned at iteration 132.\u001b[0m\n",
      "\u001b[32m[I 2022-09-13 02:19:52,691]\u001b[0m Trial 74 pruned. Trial was pruned at iteration 110.\u001b[0m\n",
      "\u001b[32m[I 2022-09-13 02:19:53,844]\u001b[0m Trial 75 pruned. Trial was pruned at iteration 5.\u001b[0m\n",
      "\u001b[32m[I 2022-09-13 02:19:54,982]\u001b[0m Trial 76 pruned. Trial was pruned at iteration 5.\u001b[0m\n",
      "\u001b[32m[I 2022-09-13 02:19:56,184]\u001b[0m Trial 77 pruned. Trial was pruned at iteration 5.\u001b[0m\n",
      "\u001b[32m[I 2022-09-13 02:19:57,391]\u001b[0m Trial 78 pruned. Trial was pruned at iteration 5.\u001b[0m\n",
      "\u001b[32m[I 2022-09-13 02:20:10,034]\u001b[0m Trial 79 finished with value: 0.7341227125941873 and parameters: {'objective': 'Logloss', 'colsample_bylevel': 0.08093735031161486, 'depth': 6, 'boosting_type': 'Plain', 'bootstrap_type': 'MVS'}. Best is trial 13 with value: 0.7421584263689527.\u001b[0m\n",
      "C:\\Users\\Me\\AppData\\Local\\Temp\\ipykernel_24852\\3980546991.py:26: ExperimentalWarning:\n",
      "\n",
      "CatBoostPruningCallback is experimental (supported from v3.0.0). The interface can change in the future.\n",
      "\n",
      "\u001b[32m[I 2022-09-13 02:20:11,477]\u001b[0m Trial 80 pruned. Trial was pruned at iteration 5.\u001b[0m\n",
      "\u001b[32m[I 2022-09-13 02:20:13,331]\u001b[0m Trial 81 pruned. Trial was pruned at iteration 23.\u001b[0m\n",
      "\u001b[32m[I 2022-09-13 02:20:30,060]\u001b[0m Trial 82 finished with value: 0.7341907824222936 and parameters: {'objective': 'Logloss', 'colsample_bylevel': 0.0891406572504137, 'depth': 6, 'boosting_type': 'Plain', 'bootstrap_type': 'MVS'}. Best is trial 13 with value: 0.7421584263689527.\u001b[0m\n",
      "C:\\Users\\Me\\AppData\\Local\\Temp\\ipykernel_24852\\3980546991.py:26: ExperimentalWarning:\n",
      "\n",
      "CatBoostPruningCallback is experimental (supported from v3.0.0). The interface can change in the future.\n",
      "\n",
      "\u001b[32m[I 2022-09-13 02:20:31,672]\u001b[0m Trial 83 pruned. Trial was pruned at iteration 28.\u001b[0m\n"
     ]
    },
    {
     "name": "stderr",
     "output_type": "stream",
     "text": [
      "\u001b[32m[I 2022-09-13 02:20:32,943]\u001b[0m Trial 84 pruned. Trial was pruned at iteration 5.\u001b[0m\n",
      "\u001b[32m[I 2022-09-13 02:20:34,207]\u001b[0m Trial 85 pruned. Trial was pruned at iteration 5.\u001b[0m\n",
      "\u001b[32m[I 2022-09-13 02:20:35,722]\u001b[0m Trial 86 pruned. Trial was pruned at iteration 43.\u001b[0m\n",
      "\u001b[32m[I 2022-09-13 02:20:37,037]\u001b[0m Trial 87 pruned. Trial was pruned at iteration 6.\u001b[0m\n",
      "\u001b[32m[I 2022-09-13 02:20:38,394]\u001b[0m Trial 88 pruned. Trial was pruned at iteration 7.\u001b[0m\n",
      "\u001b[32m[I 2022-09-13 02:20:47,208]\u001b[0m Trial 89 finished with value: 0.7335865436787846 and parameters: {'objective': 'Logloss', 'colsample_bylevel': 0.06996399833762343, 'depth': 6, 'boosting_type': 'Plain', 'bootstrap_type': 'MVS'}. Best is trial 13 with value: 0.7421584263689527.\u001b[0m\n",
      "C:\\Users\\Me\\AppData\\Local\\Temp\\ipykernel_24852\\3980546991.py:26: ExperimentalWarning:\n",
      "\n",
      "CatBoostPruningCallback is experimental (supported from v3.0.0). The interface can change in the future.\n",
      "\n",
      "\u001b[32m[I 2022-09-13 02:20:48,292]\u001b[0m Trial 90 pruned. Trial was pruned at iteration 5.\u001b[0m\n",
      "\u001b[32m[I 2022-09-13 02:20:49,589]\u001b[0m Trial 91 pruned. Trial was pruned at iteration 7.\u001b[0m\n",
      "\u001b[32m[I 2022-09-13 02:21:03,956]\u001b[0m Trial 92 finished with value: 0.736388140161725 and parameters: {'objective': 'Logloss', 'colsample_bylevel': 0.0629363599833302, 'depth': 6, 'boosting_type': 'Plain', 'bootstrap_type': 'MVS'}. Best is trial 13 with value: 0.7421584263689527.\u001b[0m\n",
      "C:\\Users\\Me\\AppData\\Local\\Temp\\ipykernel_24852\\3980546991.py:26: ExperimentalWarning:\n",
      "\n",
      "CatBoostPruningCallback is experimental (supported from v3.0.0). The interface can change in the future.\n",
      "\n",
      "\u001b[32m[I 2022-09-13 02:21:10,384]\u001b[0m Trial 93 pruned. Trial was pruned at iteration 377.\u001b[0m\n",
      "\u001b[32m[I 2022-09-13 02:21:12,096]\u001b[0m Trial 94 pruned. Trial was pruned at iteration 25.\u001b[0m\n",
      "\u001b[32m[I 2022-09-13 02:21:13,485]\u001b[0m Trial 95 pruned. Trial was pruned at iteration 5.\u001b[0m\n",
      "\u001b[32m[I 2022-09-13 02:21:15,844]\u001b[0m Trial 96 pruned. Trial was pruned at iteration 37.\u001b[0m\n",
      "\u001b[32m[I 2022-09-13 02:21:17,336]\u001b[0m Trial 97 pruned. Trial was pruned at iteration 6.\u001b[0m\n",
      "\u001b[32m[I 2022-09-13 02:21:18,680]\u001b[0m Trial 98 pruned. Trial was pruned at iteration 25.\u001b[0m\n",
      "\u001b[32m[I 2022-09-13 02:21:19,871]\u001b[0m Trial 99 pruned. Trial was pruned at iteration 5.\u001b[0m\n",
      "\u001b[32m[I 2022-09-13 02:21:21,077]\u001b[0m Trial 100 pruned. Trial was pruned at iteration 5.\u001b[0m\n",
      "\u001b[32m[I 2022-09-13 02:21:28,031]\u001b[0m Trial 101 pruned. Trial was pruned at iteration 300.\u001b[0m\n",
      "\u001b[32m[I 2022-09-13 02:21:29,955]\u001b[0m Trial 102 pruned. Trial was pruned at iteration 11.\u001b[0m\n",
      "\u001b[32m[I 2022-09-13 02:21:31,652]\u001b[0m Trial 103 pruned. Trial was pruned at iteration 5.\u001b[0m\n",
      "\u001b[32m[I 2022-09-13 02:21:41,608]\u001b[0m Trial 104 finished with value: 0.7334410339256867 and parameters: {'objective': 'Logloss', 'colsample_bylevel': 0.06675315734561124, 'depth': 6, 'boosting_type': 'Plain', 'bootstrap_type': 'MVS'}. Best is trial 13 with value: 0.7421584263689527.\u001b[0m\n",
      "C:\\Users\\Me\\AppData\\Local\\Temp\\ipykernel_24852\\3980546991.py:26: ExperimentalWarning:\n",
      "\n",
      "CatBoostPruningCallback is experimental (supported from v3.0.0). The interface can change in the future.\n",
      "\n",
      "\u001b[32m[I 2022-09-13 02:21:43,305]\u001b[0m Trial 105 pruned. Trial was pruned at iteration 37.\u001b[0m\n",
      "\u001b[32m[I 2022-09-13 02:21:44,678]\u001b[0m Trial 106 pruned. Trial was pruned at iteration 5.\u001b[0m\n",
      "\u001b[32m[I 2022-09-13 02:21:45,990]\u001b[0m Trial 107 pruned. Trial was pruned at iteration 11.\u001b[0m\n",
      "\u001b[32m[I 2022-09-13 02:22:42,324]\u001b[0m Trial 108 finished with value: 0.7394067796610169 and parameters: {'objective': 'Logloss', 'colsample_bylevel': 0.09557920970669972, 'depth': 6, 'boosting_type': 'Ordered', 'bootstrap_type': 'MVS'}. Best is trial 13 with value: 0.7421584263689527.\u001b[0m\n",
      "C:\\Users\\Me\\AppData\\Local\\Temp\\ipykernel_24852\\3980546991.py:26: ExperimentalWarning:\n",
      "\n",
      "CatBoostPruningCallback is experimental (supported from v3.0.0). The interface can change in the future.\n",
      "\n",
      "\u001b[32m[I 2022-09-13 02:22:50,777]\u001b[0m Trial 109 pruned. Trial was pruned at iteration 174.\u001b[0m\n",
      "\u001b[32m[I 2022-09-13 02:22:52,226]\u001b[0m Trial 110 pruned. Trial was pruned at iteration 5.\u001b[0m\n",
      "\u001b[32m[I 2022-09-13 02:22:53,884]\u001b[0m Trial 111 pruned. Trial was pruned at iteration 5.\u001b[0m\n",
      "\u001b[32m[I 2022-09-13 02:23:06,926]\u001b[0m Trial 112 pruned. Trial was pruned at iteration 160.\u001b[0m\n",
      "\u001b[32m[I 2022-09-13 02:23:09,493]\u001b[0m Trial 113 pruned. Trial was pruned at iteration 20.\u001b[0m\n",
      "\u001b[32m[I 2022-09-13 02:23:16,213]\u001b[0m Trial 114 pruned. Trial was pruned at iteration 327.\u001b[0m\n",
      "\u001b[32m[I 2022-09-13 02:23:17,449]\u001b[0m Trial 115 pruned. Trial was pruned at iteration 5.\u001b[0m\n",
      "\u001b[32m[I 2022-09-13 02:23:18,688]\u001b[0m Trial 116 pruned. Trial was pruned at iteration 5.\u001b[0m\n",
      "\u001b[32m[I 2022-09-13 02:23:19,904]\u001b[0m Trial 117 pruned. Trial was pruned at iteration 5.\u001b[0m\n",
      "\u001b[32m[I 2022-09-13 02:23:21,155]\u001b[0m Trial 118 pruned. Trial was pruned at iteration 5.\u001b[0m\n",
      "\u001b[32m[I 2022-09-13 02:23:22,976]\u001b[0m Trial 119 pruned. Trial was pruned at iteration 7.\u001b[0m\n",
      "\u001b[32m[I 2022-09-13 02:23:24,178]\u001b[0m Trial 120 pruned. Trial was pruned at iteration 5.\u001b[0m\n",
      "\u001b[32m[I 2022-09-13 02:23:25,680]\u001b[0m Trial 121 pruned. Trial was pruned at iteration 11.\u001b[0m\n",
      "\u001b[32m[I 2022-09-13 02:23:29,001]\u001b[0m Trial 122 pruned. Trial was pruned at iteration 135.\u001b[0m\n",
      "\u001b[32m[I 2022-09-13 02:23:31,110]\u001b[0m Trial 123 pruned. Trial was pruned at iteration 20.\u001b[0m\n",
      "\u001b[32m[I 2022-09-13 02:23:36,299]\u001b[0m Trial 124 pruned. Trial was pruned at iteration 227.\u001b[0m\n",
      "\u001b[32m[I 2022-09-13 02:23:37,472]\u001b[0m Trial 125 pruned. Trial was pruned at iteration 5.\u001b[0m\n",
      "\u001b[32m[I 2022-09-13 02:23:38,910]\u001b[0m Trial 126 pruned. Trial was pruned at iteration 7.\u001b[0m\n",
      "\u001b[32m[I 2022-09-13 02:23:40,120]\u001b[0m Trial 127 pruned. Trial was pruned at iteration 5.\u001b[0m\n",
      "\u001b[32m[I 2022-09-13 02:23:41,505]\u001b[0m Trial 128 pruned. Trial was pruned at iteration 5.\u001b[0m\n",
      "\u001b[32m[I 2022-09-13 02:23:45,462]\u001b[0m Trial 129 pruned. Trial was pruned at iteration 160.\u001b[0m\n",
      "\u001b[32m[I 2022-09-13 02:23:46,735]\u001b[0m Trial 130 pruned. Trial was pruned at iteration 5.\u001b[0m\n",
      "\u001b[32m[I 2022-09-13 02:23:55,435]\u001b[0m Trial 131 pruned. Trial was pruned at iteration 458.\u001b[0m\n",
      "\u001b[32m[I 2022-09-13 02:23:57,011]\u001b[0m Trial 132 pruned. Trial was pruned at iteration 26.\u001b[0m\n",
      "\u001b[32m[I 2022-09-13 02:24:08,723]\u001b[0m Trial 133 finished with value: 0.7332613390928725 and parameters: {'objective': 'Logloss', 'colsample_bylevel': 0.07143763488826377, 'depth': 6, 'boosting_type': 'Plain', 'bootstrap_type': 'MVS'}. Best is trial 13 with value: 0.7421584263689527.\u001b[0m\n",
      "C:\\Users\\Me\\AppData\\Local\\Temp\\ipykernel_24852\\3980546991.py:26: ExperimentalWarning:\n",
      "\n",
      "CatBoostPruningCallback is experimental (supported from v3.0.0). The interface can change in the future.\n",
      "\n",
      "\u001b[32m[I 2022-09-13 02:24:10,469]\u001b[0m Trial 134 pruned. Trial was pruned at iteration 20.\u001b[0m\n",
      "\u001b[32m[I 2022-09-13 02:24:12,363]\u001b[0m Trial 135 pruned. Trial was pruned at iteration 25.\u001b[0m\n",
      "\u001b[32m[I 2022-09-13 02:24:13,834]\u001b[0m Trial 136 pruned. Trial was pruned at iteration 11.\u001b[0m\n",
      "\u001b[32m[I 2022-09-13 02:24:15,684]\u001b[0m Trial 137 pruned. Trial was pruned at iteration 5.\u001b[0m\n",
      "\u001b[32m[I 2022-09-13 02:24:17,406]\u001b[0m Trial 138 pruned. Trial was pruned at iteration 20.\u001b[0m\n",
      "\u001b[32m[I 2022-09-13 02:24:18,905]\u001b[0m Trial 139 pruned. Trial was pruned at iteration 5.\u001b[0m\n",
      "\u001b[32m[I 2022-09-13 02:24:20,277]\u001b[0m Trial 140 pruned. Trial was pruned at iteration 5.\u001b[0m\n",
      "\u001b[32m[I 2022-09-13 02:24:21,903]\u001b[0m Trial 141 pruned. Trial was pruned at iteration 8.\u001b[0m\n",
      "\u001b[32m[I 2022-09-13 02:24:23,596]\u001b[0m Trial 142 pruned. Trial was pruned at iteration 5.\u001b[0m\n",
      "\u001b[32m[I 2022-09-13 02:24:25,575]\u001b[0m Trial 143 pruned. Trial was pruned at iteration 25.\u001b[0m\n",
      "\u001b[32m[I 2022-09-13 02:24:27,047]\u001b[0m Trial 144 pruned. Trial was pruned at iteration 5.\u001b[0m\n",
      "\u001b[32m[I 2022-09-13 02:24:29,299]\u001b[0m Trial 145 pruned. Trial was pruned at iteration 5.\u001b[0m\n",
      "\u001b[32m[I 2022-09-13 02:24:31,604]\u001b[0m Trial 146 pruned. Trial was pruned at iteration 7.\u001b[0m\n",
      "\u001b[32m[I 2022-09-13 02:24:33,190]\u001b[0m Trial 147 pruned. Trial was pruned at iteration 5.\u001b[0m\n",
      "\u001b[32m[I 2022-09-13 02:24:35,282]\u001b[0m Trial 148 pruned. Trial was pruned at iteration 26.\u001b[0m\n",
      "\u001b[32m[I 2022-09-13 02:24:37,192]\u001b[0m Trial 149 pruned. Trial was pruned at iteration 5.\u001b[0m\n"
     ]
    }
   ],
   "source": [
    "study = optuna.create_study(pruner=optuna.pruners.MedianPruner(n_warmup_steps=5), direction=\"maximize\")\n",
    "study.optimize(objective, n_trials=150, timeout=600, callbacks=[callback])"
   ]
  },
  {
   "cell_type": "code",
   "execution_count": 18,
   "id": "a4ce31da",
   "metadata": {},
   "outputs": [
    {
     "name": "stdout",
     "output_type": "stream",
     "text": [
      "{'depth': 5, 'eval_metric': 'F1', 'boosting_type': 'Ordered', 'bootstrap_type': 'MVS', 'colsample_bylevel': 0.05228322690351833, 'objective': 'Logloss'}\n"
     ]
    }
   ],
   "source": [
    "best_model=study.user_attrs[\"best_booster\"]\n",
    "print(best_model.get_params())"
   ]
  },
  {
   "cell_type": "code",
   "execution_count": 20,
   "id": "8edac65a",
   "metadata": {},
   "outputs": [
    {
     "name": "stdout",
     "output_type": "stream",
     "text": [
      "F1 score:  0.7421584263689527\n",
      "Accuracy:  0.7876532399299475\n"
     ]
    }
   ],
   "source": [
    "print('F1 score: ', f1_score(y_test_np, best_model.predict(X_test_svd)))\n",
    "print('Accuracy: ', accuracy_score(y_test_np, best_model.predict(X_test_svd)))"
   ]
  },
  {
   "cell_type": "code",
   "execution_count": 21,
   "id": "18d2588b",
   "metadata": {},
   "outputs": [],
   "source": [
    "# Create df with all features and importance of them\n",
    "df_features_importance = pd.DataFrame(\n",
    "    {'feature_names': best_model.feature_names_,\n",
    "     'feature_importances': best_model.feature_importances_\n",
    "    })"
   ]
  },
  {
   "cell_type": "code",
   "execution_count": 22,
   "id": "c3614052",
   "metadata": {},
   "outputs": [
    {
     "data": {
      "text/html": [
       "<div>\n",
       "<style scoped>\n",
       "    .dataframe tbody tr th:only-of-type {\n",
       "        vertical-align: middle;\n",
       "    }\n",
       "\n",
       "    .dataframe tbody tr th {\n",
       "        vertical-align: top;\n",
       "    }\n",
       "\n",
       "    .dataframe thead th {\n",
       "        text-align: right;\n",
       "    }\n",
       "</style>\n",
       "<table border=\"1\" class=\"dataframe\">\n",
       "  <thead>\n",
       "    <tr style=\"text-align: right;\">\n",
       "      <th></th>\n",
       "      <th>feature_names</th>\n",
       "      <th>feature_importances</th>\n",
       "    </tr>\n",
       "  </thead>\n",
       "  <tbody>\n",
       "    <tr>\n",
       "      <th>1</th>\n",
       "      <td>1</td>\n",
       "      <td>5.759003</td>\n",
       "    </tr>\n",
       "    <tr>\n",
       "      <th>0</th>\n",
       "      <td>0</td>\n",
       "      <td>2.764169</td>\n",
       "    </tr>\n",
       "    <tr>\n",
       "      <th>22</th>\n",
       "      <td>22</td>\n",
       "      <td>2.502969</td>\n",
       "    </tr>\n",
       "    <tr>\n",
       "      <th>8</th>\n",
       "      <td>8</td>\n",
       "      <td>2.070422</td>\n",
       "    </tr>\n",
       "    <tr>\n",
       "      <th>18</th>\n",
       "      <td>18</td>\n",
       "      <td>1.994141</td>\n",
       "    </tr>\n",
       "    <tr>\n",
       "      <th>4</th>\n",
       "      <td>4</td>\n",
       "      <td>1.576262</td>\n",
       "    </tr>\n",
       "    <tr>\n",
       "      <th>9</th>\n",
       "      <td>9</td>\n",
       "      <td>1.371125</td>\n",
       "    </tr>\n",
       "    <tr>\n",
       "      <th>77</th>\n",
       "      <td>77</td>\n",
       "      <td>1.134851</td>\n",
       "    </tr>\n",
       "    <tr>\n",
       "      <th>2</th>\n",
       "      <td>2</td>\n",
       "      <td>1.047098</td>\n",
       "    </tr>\n",
       "    <tr>\n",
       "      <th>12</th>\n",
       "      <td>12</td>\n",
       "      <td>1.028431</td>\n",
       "    </tr>\n",
       "  </tbody>\n",
       "</table>\n",
       "</div>"
      ],
      "text/plain": [
       "   feature_names  feature_importances\n",
       "1              1             5.759003\n",
       "0              0             2.764169\n",
       "22            22             2.502969\n",
       "8              8             2.070422\n",
       "18            18             1.994141\n",
       "4              4             1.576262\n",
       "9              9             1.371125\n",
       "77            77             1.134851\n",
       "2              2             1.047098\n",
       "12            12             1.028431"
      ]
     },
     "execution_count": 22,
     "metadata": {},
     "output_type": "execute_result"
    }
   ],
   "source": [
    "#Check features with the highest importance. If one feature is more important than others it could be a leak\n",
    "df_features_importance.sort_values('feature_importances', ascending=False)[:10]"
   ]
  },
  {
   "cell_type": "code",
   "execution_count": 24,
   "id": "7cfc05cd",
   "metadata": {},
   "outputs": [],
   "source": [
    "y_predict_prob = best_model.predict_proba(X_test_svd)"
   ]
  },
  {
   "cell_type": "code",
   "execution_count": 25,
   "id": "48e13a2a",
   "metadata": {},
   "outputs": [],
   "source": [
    "## Chart of precision and recall for quantiles\n",
    "def get_scores(y_true, y_pred, arange = np.arange(1, 100, 1), mode = True ):\n",
    "    perc_lst = [np.percentile(y_pred, x) for x in arange]\n",
    "    prec_lst = [precision_score(y_true, [1 if _ > x else 0 for _ in y_pred]) for x in perc_lst]\n",
    "    recall_lst = [recall_score(y_true, [1 if _ > x else 0 for _ in y_pred]) for x in perc_lst]\n",
    "    if mode == 'prob':\n",
    "        graph_1 = []\n",
    "        graph_1.append(go.Scatter(x = perc_lst, y = prec_lst, name = 'precision'))\n",
    "        graph_1.append(go.Scatter(x = perc_lst, y = recall_lst, name = 'recall'))\n",
    "        layout = (go.Layout(title = 'different metrics', xaxis = dict(title = 'probability_threshold'), \n",
    "                            yaxis = dict(title = 'Scores'))\n",
    "                 )\n",
    "\n",
    "        fig = go.Figure(data = graph_1, layout = layout)\n",
    "        iplot(fig)\n",
    "\n",
    "    else:\n",
    "\n",
    "        graph_1 = []\n",
    "        graph_1.append(go.Scatter(x = arange, y = prec_lst, name = 'precision'))\n",
    "        graph_1.append(go.Scatter(x = arange, y = recall_lst, name = 'recall'))\n",
    "        #graph_1.append(go.Scatter(x = arange, y = list(np.ones(len(arange))) * prob, name = 'random_precision'))\n",
    "        layout = (go.Layout(title = 'different metrics', xaxis = dict(title = 'quantilites_threshold'), \n",
    "\n",
    "                            yaxis = dict(title = 'Scores'))\n",
    "\n",
    "                 )\n",
    "\n",
    "        fig = go.Figure(data = graph_1, layout = layout)\n",
    "        iplot(fig) \n",
    "    return perc_lst, prec_lst, recall_lst"
   ]
  },
  {
   "cell_type": "code",
   "execution_count": 26,
   "id": "59ad5dd0",
   "metadata": {},
   "outputs": [],
   "source": [
    "#functions for searching best threshold\n",
    "def to_labels(pos_probs, threshold):\n",
    "    return (pos_probs >= threshold).astype('int')\n",
    "\n",
    "def best_tresholds(y_pred_proba, y_test):\n",
    "    # define thresholds\n",
    "    thresholds = np.arange(0, 1, 0.001)\n",
    "    # evaluate each threshold\n",
    "    scores = [f1_score(y_test, to_labels(y_pred_proba, t)) for t in thresholds]\n",
    "    # get best threshold\n",
    "    ix = np.argmax(scores)\n",
    "    #print('Threshold=%.3f, F-Score=%.5f' % (thresholds[ix], scores[ix]))\n",
    "    return thresholds[ix], scores[ix]"
   ]
  },
  {
   "cell_type": "code",
   "execution_count": 28,
   "id": "78fc104a",
   "metadata": {},
   "outputs": [
    {
     "data": {
      "text/plain": [
       "(0.47200000000000003, 0.7437759336099585)"
      ]
     },
     "execution_count": 28,
     "metadata": {},
     "output_type": "execute_result"
    }
   ],
   "source": [
    "## Let's find the best treshold\n",
    "best_tresholds(y_predict_prob[:,1], y_test_np)"
   ]
  },
  {
   "cell_type": "code",
   "execution_count": 42,
   "id": "95051220",
   "metadata": {},
   "outputs": [
    {
     "data": {
      "application/vnd.plotly.v1+json": {
       "config": {
        "linkText": "Export to plot.ly",
        "plotlyServerURL": "https://plot.ly",
        "showLink": false
       },
       "data": [
        {
         "name": "precision",
         "type": "scatter",
         "x": [
          0.04944417597372568,
          0.058737117720484185,
          0.06383920404840768,
          0.07139242645704873,
          0.07754201841243107,
          0.08220992000211212,
          0.08787247004252355,
          0.09229781211949924,
          0.09743181390248978,
          0.10390519364850241,
          0.10859789604240606,
          0.11261115839640713,
          0.11849474993831687,
          0.12180483212363882,
          0.12683164550860582,
          0.13081232122088854,
          0.13560263684964227,
          0.1415007299403363,
          0.14838497364283185,
          0.152032908373009,
          0.15541146065626665,
          0.16120674776368285,
          0.16807976305324024,
          0.17385153876203768,
          0.17756843957604476,
          0.185219681046158,
          0.19189769406268797,
          0.19725690420260023,
          0.20333970390897899,
          0.20937437913288975,
          0.21481029339801563,
          0.22255867578778998,
          0.2301640924232333,
          0.23862793807384597,
          0.246775932575413,
          0.2508591944836573,
          0.2577474697767792,
          0.26249059339363623,
          0.273166455570682,
          0.28041169437952096,
          0.28603309282769623,
          0.29153138375041754,
          0.29699049821234763,
          0.30814331665207967,
          0.31963383587842753,
          0.32995263859076923,
          0.33948915633590904,
          0.3488812575831495,
          0.3639129501264432,
          0.37408006790535253,
          0.3870611509322481,
          0.3940319058073275,
          0.40550947805547505,
          0.41879590895126534,
          0.42959616124434213,
          0.44201011982120764,
          0.4537035209627742,
          0.467630986008519,
          0.4771298147806921,
          0.49158056105969855,
          0.5035487198222416,
          0.5157614176267457,
          0.5252922403372812,
          0.5340674453770589,
          0.5506687038630332,
          0.5684789045171671,
          0.5830824963341538,
          0.5996223048319462,
          0.6149975414712093,
          0.625946398055313,
          0.6431472503387212,
          0.6571953961117024,
          0.6735049013207789,
          0.6911794634104524,
          0.7030966079768098,
          0.7181301228445399,
          0.7337102820970778,
          0.7457553210192002,
          0.7666328138631556,
          0.7814512051982084,
          0.801254445024142,
          0.8138336635374206,
          0.826604523039276,
          0.8347876740079776,
          0.8497871833804225,
          0.8595749011061589,
          0.8755922481207917,
          0.8864366039829109,
          0.8961692002841438,
          0.9034649899682222,
          0.9114413708127759,
          0.9218706254253128,
          0.9279120197930322,
          0.9354056039072932,
          0.9416035372616889,
          0.949828689083744,
          0.958118668316868,
          0.9649795878701748,
          0.975042982357485
         ],
         "y": [
          0.4329942503317116,
          0.43699731903485256,
          0.44108352144469526,
          0.4445458694659973,
          0.4472106961733518,
          0.44993013507219376,
          0.4538606403013183,
          0.4583531651594479,
          0.4615014436958614,
          0.46618004866180046,
          0.4714566929133858,
          0.4761194029850746,
          0.48112732762959237,
          0.48523421588594706,
          0.4884080370942813,
          0.4932221063607925,
          0.49868073878627966,
          0.5018686599038975,
          0.5064864864864865,
          0.5101258894362343,
          0.5138580931263859,
          0.5182481751824818,
          0.5244596131968146,
          0.5288018433179723,
          0.5335668417980152,
          0.5384615384615384,
          0.5446910617876425,
          0.5504866180048662,
          0.5552128315854411,
          0.5603502188868043,
          0.5653553299492385,
          0.5717965228589826,
          0.5764705882352941,
          0.581950895819509,
          0.5876010781671159,
          0.5909712722298222,
          0.595552466990966,
          0.6016949152542372,
          0.6094759511844939,
          0.6160583941605839,
          0.6228656273199703,
          0.6286792452830189,
          0.6359447004608295,
          0.6442533229085223,
          0.6520700636942676,
          0.6601784266017843,
          0.6652892561983471,
          0.6691919191919192,
          0.6772532188841202,
          0.6856392294220666,
          0.6934763181411975,
          0.6998175182481752,
          0.7067039106145251,
          0.7155090390104663,
          0.7227626459143969,
          0.7303482587064677,
          0.7403258655804481,
          0.7507820646506778,
          0.7609391675560299,
          0.7647702407002188,
          0.77665544332211,
          0.7845622119815668,
          0.7917159763313609,
          0.805352798053528,
          0.815,
          0.8198198198198198,
          0.8262599469496021,
          0.8344733242134063,
          0.8432203389830508,
          0.8525547445255475,
          0.8627450980392157,
          0.875,
          0.8784440842787682,
          0.8855218855218855,
          0.8931698774080561,
          0.8996350364963503,
          0.903041825095057,
          0.9005964214711729,
          0.9083333333333333,
          0.9212253829321663,
          0.9285714285714286,
          0.9343065693430657,
          0.9485861182519281,
          0.9508196721311475,
          0.956268221574344,
          0.959375,
          0.9562289562289562,
          0.9635036496350365,
          0.9603174603174603,
          0.9606986899563319,
          0.9611650485436893,
          0.9562841530054644,
          0.95625,
          0.9635036496350365,
          0.9652173913043478,
          0.9565217391304348,
          1,
          1,
          1
         ]
        },
        {
         "name": "recall",
         "type": "scatter",
         "x": [
          0.04944417597372568,
          0.058737117720484185,
          0.06383920404840768,
          0.07139242645704873,
          0.07754201841243107,
          0.08220992000211212,
          0.08787247004252355,
          0.09229781211949924,
          0.09743181390248978,
          0.10390519364850241,
          0.10859789604240606,
          0.11261115839640713,
          0.11849474993831687,
          0.12180483212363882,
          0.12683164550860582,
          0.13081232122088854,
          0.13560263684964227,
          0.1415007299403363,
          0.14838497364283185,
          0.152032908373009,
          0.15541146065626665,
          0.16120674776368285,
          0.16807976305324024,
          0.17385153876203768,
          0.17756843957604476,
          0.185219681046158,
          0.19189769406268797,
          0.19725690420260023,
          0.20333970390897899,
          0.20937437913288975,
          0.21481029339801563,
          0.22255867578778998,
          0.2301640924232333,
          0.23862793807384597,
          0.246775932575413,
          0.2508591944836573,
          0.2577474697767792,
          0.26249059339363623,
          0.273166455570682,
          0.28041169437952096,
          0.28603309282769623,
          0.29153138375041754,
          0.29699049821234763,
          0.30814331665207967,
          0.31963383587842753,
          0.32995263859076923,
          0.33948915633590904,
          0.3488812575831495,
          0.3639129501264432,
          0.37408006790535253,
          0.3870611509322481,
          0.3940319058073275,
          0.40550947805547505,
          0.41879590895126534,
          0.42959616124434213,
          0.44201011982120764,
          0.4537035209627742,
          0.467630986008519,
          0.4771298147806921,
          0.49158056105969855,
          0.5035487198222416,
          0.5157614176267457,
          0.5252922403372812,
          0.5340674453770589,
          0.5506687038630332,
          0.5684789045171671,
          0.5830824963341538,
          0.5996223048319462,
          0.6149975414712093,
          0.625946398055313,
          0.6431472503387212,
          0.6571953961117024,
          0.6735049013207789,
          0.6911794634104524,
          0.7030966079768098,
          0.7181301228445399,
          0.7337102820970778,
          0.7457553210192002,
          0.7666328138631556,
          0.7814512051982084,
          0.801254445024142,
          0.8138336635374206,
          0.826604523039276,
          0.8347876740079776,
          0.8497871833804225,
          0.8595749011061589,
          0.8755922481207917,
          0.8864366039829109,
          0.8961692002841438,
          0.9034649899682222,
          0.9114413708127759,
          0.9218706254253128,
          0.9279120197930322,
          0.9354056039072932,
          0.9416035372616889,
          0.949828689083744,
          0.958118668316868,
          0.9649795878701748,
          0.975042982357485
         ],
         "y": [
          0.9979612640163099,
          0.9969418960244648,
          0.9959225280326198,
          0.9928644240570846,
          0.9887869520897044,
          0.9847094801223242,
          0.9826707441386341,
          0.981651376146789,
          0.9775739041794088,
          0.9765545361875637,
          0.9765545361875637,
          0.9755351681957186,
          0.9745158002038736,
          0.9714576962283384,
          0.9663608562691132,
          0.9643221202854231,
          0.963302752293578,
          0.9582059123343527,
          0.9551478083588175,
          0.9500509683995922,
          0.944954128440367,
          0.9408766564729868,
          0.9398572884811417,
          0.9357798165137615,
          0.9317023445463812,
          0.9276248725790011,
          0.9255861365953109,
          0.9225280326197758,
          0.9174311926605505,
          0.9133537206931702,
          0.908256880733945,
          0.9051987767584098,
          0.8990825688073395,
          0.8939857288481141,
          0.8888888888888888,
          0.8807339449541285,
          0.873598369011213,
          0.8685015290519877,
          0.8654434250764526,
          0.8603465851172273,
          0.855249745158002,
          0.8491335372069317,
          0.8440366972477065,
          0.8399592252803262,
          0.8348623853211009,
          0.8297655453618756,
          0.8205912334352702,
          0.8103975535168195,
          0.8042813455657493,
          0.7981651376146789,
          0.7910295616717635,
          0.781855249745158,
          0.7737003058103975,
          0.7665647298674821,
          0.7573904179408767,
          0.7482161060142711,
          0.7410805300713558,
          0.7339449541284404,
          0.7268093781855249,
          0.7125382262996942,
          0.7054026503567788,
          0.6941896024464832,
          0.6819571865443425,
          0.6748216106014271,
          0.6646279306829765,
          0.6493374108053007,
          0.6350662589194699,
          0.6218144750254841,
          0.6085626911314985,
          0.5953109072375128,
          0.583078491335372,
          0.5708460754332314,
          0.5524974515800204,
          0.5361875637104995,
          0.5198776758409785,
          0.5025484199796126,
          0.4841997961264016,
          0.4617737003058104,
          0.4444444444444444,
          0.4291539245667686,
          0.4108053007135576,
          0.39143730886850153,
          0.3761467889908257,
          0.3547400611620795,
          0.3343527013251784,
          0.3129459734964322,
          0.28950050968399593,
          0.2691131498470948,
          0.24668705402650357,
          0.22426095820591233,
          0.2018348623853211,
          0.1783893985728848,
          0.1559633027522936,
          0.1345565749235474,
          0.11314984709480122,
          0.08970438328236494,
          0.07033639143730887,
          0.046890927624872576,
          0.023445463812436288
         ]
        }
       ],
       "layout": {
        "template": {
         "data": {
          "bar": [
           {
            "error_x": {
             "color": "#2a3f5f"
            },
            "error_y": {
             "color": "#2a3f5f"
            },
            "marker": {
             "line": {
              "color": "#E5ECF6",
              "width": 0.5
             },
             "pattern": {
              "fillmode": "overlay",
              "size": 10,
              "solidity": 0.2
             }
            },
            "type": "bar"
           }
          ],
          "barpolar": [
           {
            "marker": {
             "line": {
              "color": "#E5ECF6",
              "width": 0.5
             },
             "pattern": {
              "fillmode": "overlay",
              "size": 10,
              "solidity": 0.2
             }
            },
            "type": "barpolar"
           }
          ],
          "carpet": [
           {
            "aaxis": {
             "endlinecolor": "#2a3f5f",
             "gridcolor": "white",
             "linecolor": "white",
             "minorgridcolor": "white",
             "startlinecolor": "#2a3f5f"
            },
            "baxis": {
             "endlinecolor": "#2a3f5f",
             "gridcolor": "white",
             "linecolor": "white",
             "minorgridcolor": "white",
             "startlinecolor": "#2a3f5f"
            },
            "type": "carpet"
           }
          ],
          "choropleth": [
           {
            "colorbar": {
             "outlinewidth": 0,
             "ticks": ""
            },
            "type": "choropleth"
           }
          ],
          "contour": [
           {
            "colorbar": {
             "outlinewidth": 0,
             "ticks": ""
            },
            "colorscale": [
             [
              0,
              "#0d0887"
             ],
             [
              0.1111111111111111,
              "#46039f"
             ],
             [
              0.2222222222222222,
              "#7201a8"
             ],
             [
              0.3333333333333333,
              "#9c179e"
             ],
             [
              0.4444444444444444,
              "#bd3786"
             ],
             [
              0.5555555555555556,
              "#d8576b"
             ],
             [
              0.6666666666666666,
              "#ed7953"
             ],
             [
              0.7777777777777778,
              "#fb9f3a"
             ],
             [
              0.8888888888888888,
              "#fdca26"
             ],
             [
              1,
              "#f0f921"
             ]
            ],
            "type": "contour"
           }
          ],
          "contourcarpet": [
           {
            "colorbar": {
             "outlinewidth": 0,
             "ticks": ""
            },
            "type": "contourcarpet"
           }
          ],
          "heatmap": [
           {
            "colorbar": {
             "outlinewidth": 0,
             "ticks": ""
            },
            "colorscale": [
             [
              0,
              "#0d0887"
             ],
             [
              0.1111111111111111,
              "#46039f"
             ],
             [
              0.2222222222222222,
              "#7201a8"
             ],
             [
              0.3333333333333333,
              "#9c179e"
             ],
             [
              0.4444444444444444,
              "#bd3786"
             ],
             [
              0.5555555555555556,
              "#d8576b"
             ],
             [
              0.6666666666666666,
              "#ed7953"
             ],
             [
              0.7777777777777778,
              "#fb9f3a"
             ],
             [
              0.8888888888888888,
              "#fdca26"
             ],
             [
              1,
              "#f0f921"
             ]
            ],
            "type": "heatmap"
           }
          ],
          "heatmapgl": [
           {
            "colorbar": {
             "outlinewidth": 0,
             "ticks": ""
            },
            "colorscale": [
             [
              0,
              "#0d0887"
             ],
             [
              0.1111111111111111,
              "#46039f"
             ],
             [
              0.2222222222222222,
              "#7201a8"
             ],
             [
              0.3333333333333333,
              "#9c179e"
             ],
             [
              0.4444444444444444,
              "#bd3786"
             ],
             [
              0.5555555555555556,
              "#d8576b"
             ],
             [
              0.6666666666666666,
              "#ed7953"
             ],
             [
              0.7777777777777778,
              "#fb9f3a"
             ],
             [
              0.8888888888888888,
              "#fdca26"
             ],
             [
              1,
              "#f0f921"
             ]
            ],
            "type": "heatmapgl"
           }
          ],
          "histogram": [
           {
            "marker": {
             "pattern": {
              "fillmode": "overlay",
              "size": 10,
              "solidity": 0.2
             }
            },
            "type": "histogram"
           }
          ],
          "histogram2d": [
           {
            "colorbar": {
             "outlinewidth": 0,
             "ticks": ""
            },
            "colorscale": [
             [
              0,
              "#0d0887"
             ],
             [
              0.1111111111111111,
              "#46039f"
             ],
             [
              0.2222222222222222,
              "#7201a8"
             ],
             [
              0.3333333333333333,
              "#9c179e"
             ],
             [
              0.4444444444444444,
              "#bd3786"
             ],
             [
              0.5555555555555556,
              "#d8576b"
             ],
             [
              0.6666666666666666,
              "#ed7953"
             ],
             [
              0.7777777777777778,
              "#fb9f3a"
             ],
             [
              0.8888888888888888,
              "#fdca26"
             ],
             [
              1,
              "#f0f921"
             ]
            ],
            "type": "histogram2d"
           }
          ],
          "histogram2dcontour": [
           {
            "colorbar": {
             "outlinewidth": 0,
             "ticks": ""
            },
            "colorscale": [
             [
              0,
              "#0d0887"
             ],
             [
              0.1111111111111111,
              "#46039f"
             ],
             [
              0.2222222222222222,
              "#7201a8"
             ],
             [
              0.3333333333333333,
              "#9c179e"
             ],
             [
              0.4444444444444444,
              "#bd3786"
             ],
             [
              0.5555555555555556,
              "#d8576b"
             ],
             [
              0.6666666666666666,
              "#ed7953"
             ],
             [
              0.7777777777777778,
              "#fb9f3a"
             ],
             [
              0.8888888888888888,
              "#fdca26"
             ],
             [
              1,
              "#f0f921"
             ]
            ],
            "type": "histogram2dcontour"
           }
          ],
          "mesh3d": [
           {
            "colorbar": {
             "outlinewidth": 0,
             "ticks": ""
            },
            "type": "mesh3d"
           }
          ],
          "parcoords": [
           {
            "line": {
             "colorbar": {
              "outlinewidth": 0,
              "ticks": ""
             }
            },
            "type": "parcoords"
           }
          ],
          "pie": [
           {
            "automargin": true,
            "type": "pie"
           }
          ],
          "scatter": [
           {
            "fillpattern": {
             "fillmode": "overlay",
             "size": 10,
             "solidity": 0.2
            },
            "type": "scatter"
           }
          ],
          "scatter3d": [
           {
            "line": {
             "colorbar": {
              "outlinewidth": 0,
              "ticks": ""
             }
            },
            "marker": {
             "colorbar": {
              "outlinewidth": 0,
              "ticks": ""
             }
            },
            "type": "scatter3d"
           }
          ],
          "scattercarpet": [
           {
            "marker": {
             "colorbar": {
              "outlinewidth": 0,
              "ticks": ""
             }
            },
            "type": "scattercarpet"
           }
          ],
          "scattergeo": [
           {
            "marker": {
             "colorbar": {
              "outlinewidth": 0,
              "ticks": ""
             }
            },
            "type": "scattergeo"
           }
          ],
          "scattergl": [
           {
            "marker": {
             "colorbar": {
              "outlinewidth": 0,
              "ticks": ""
             }
            },
            "type": "scattergl"
           }
          ],
          "scattermapbox": [
           {
            "marker": {
             "colorbar": {
              "outlinewidth": 0,
              "ticks": ""
             }
            },
            "type": "scattermapbox"
           }
          ],
          "scatterpolar": [
           {
            "marker": {
             "colorbar": {
              "outlinewidth": 0,
              "ticks": ""
             }
            },
            "type": "scatterpolar"
           }
          ],
          "scatterpolargl": [
           {
            "marker": {
             "colorbar": {
              "outlinewidth": 0,
              "ticks": ""
             }
            },
            "type": "scatterpolargl"
           }
          ],
          "scatterternary": [
           {
            "marker": {
             "colorbar": {
              "outlinewidth": 0,
              "ticks": ""
             }
            },
            "type": "scatterternary"
           }
          ],
          "surface": [
           {
            "colorbar": {
             "outlinewidth": 0,
             "ticks": ""
            },
            "colorscale": [
             [
              0,
              "#0d0887"
             ],
             [
              0.1111111111111111,
              "#46039f"
             ],
             [
              0.2222222222222222,
              "#7201a8"
             ],
             [
              0.3333333333333333,
              "#9c179e"
             ],
             [
              0.4444444444444444,
              "#bd3786"
             ],
             [
              0.5555555555555556,
              "#d8576b"
             ],
             [
              0.6666666666666666,
              "#ed7953"
             ],
             [
              0.7777777777777778,
              "#fb9f3a"
             ],
             [
              0.8888888888888888,
              "#fdca26"
             ],
             [
              1,
              "#f0f921"
             ]
            ],
            "type": "surface"
           }
          ],
          "table": [
           {
            "cells": {
             "fill": {
              "color": "#EBF0F8"
             },
             "line": {
              "color": "white"
             }
            },
            "header": {
             "fill": {
              "color": "#C8D4E3"
             },
             "line": {
              "color": "white"
             }
            },
            "type": "table"
           }
          ]
         },
         "layout": {
          "annotationdefaults": {
           "arrowcolor": "#2a3f5f",
           "arrowhead": 0,
           "arrowwidth": 1
          },
          "autotypenumbers": "strict",
          "coloraxis": {
           "colorbar": {
            "outlinewidth": 0,
            "ticks": ""
           }
          },
          "colorscale": {
           "diverging": [
            [
             0,
             "#8e0152"
            ],
            [
             0.1,
             "#c51b7d"
            ],
            [
             0.2,
             "#de77ae"
            ],
            [
             0.3,
             "#f1b6da"
            ],
            [
             0.4,
             "#fde0ef"
            ],
            [
             0.5,
             "#f7f7f7"
            ],
            [
             0.6,
             "#e6f5d0"
            ],
            [
             0.7,
             "#b8e186"
            ],
            [
             0.8,
             "#7fbc41"
            ],
            [
             0.9,
             "#4d9221"
            ],
            [
             1,
             "#276419"
            ]
           ],
           "sequential": [
            [
             0,
             "#0d0887"
            ],
            [
             0.1111111111111111,
             "#46039f"
            ],
            [
             0.2222222222222222,
             "#7201a8"
            ],
            [
             0.3333333333333333,
             "#9c179e"
            ],
            [
             0.4444444444444444,
             "#bd3786"
            ],
            [
             0.5555555555555556,
             "#d8576b"
            ],
            [
             0.6666666666666666,
             "#ed7953"
            ],
            [
             0.7777777777777778,
             "#fb9f3a"
            ],
            [
             0.8888888888888888,
             "#fdca26"
            ],
            [
             1,
             "#f0f921"
            ]
           ],
           "sequentialminus": [
            [
             0,
             "#0d0887"
            ],
            [
             0.1111111111111111,
             "#46039f"
            ],
            [
             0.2222222222222222,
             "#7201a8"
            ],
            [
             0.3333333333333333,
             "#9c179e"
            ],
            [
             0.4444444444444444,
             "#bd3786"
            ],
            [
             0.5555555555555556,
             "#d8576b"
            ],
            [
             0.6666666666666666,
             "#ed7953"
            ],
            [
             0.7777777777777778,
             "#fb9f3a"
            ],
            [
             0.8888888888888888,
             "#fdca26"
            ],
            [
             1,
             "#f0f921"
            ]
           ]
          },
          "colorway": [
           "#636efa",
           "#EF553B",
           "#00cc96",
           "#ab63fa",
           "#FFA15A",
           "#19d3f3",
           "#FF6692",
           "#B6E880",
           "#FF97FF",
           "#FECB52"
          ],
          "font": {
           "color": "#2a3f5f"
          },
          "geo": {
           "bgcolor": "white",
           "lakecolor": "white",
           "landcolor": "#E5ECF6",
           "showlakes": true,
           "showland": true,
           "subunitcolor": "white"
          },
          "hoverlabel": {
           "align": "left"
          },
          "hovermode": "closest",
          "mapbox": {
           "style": "light"
          },
          "paper_bgcolor": "white",
          "plot_bgcolor": "#E5ECF6",
          "polar": {
           "angularaxis": {
            "gridcolor": "white",
            "linecolor": "white",
            "ticks": ""
           },
           "bgcolor": "#E5ECF6",
           "radialaxis": {
            "gridcolor": "white",
            "linecolor": "white",
            "ticks": ""
           }
          },
          "scene": {
           "xaxis": {
            "backgroundcolor": "#E5ECF6",
            "gridcolor": "white",
            "gridwidth": 2,
            "linecolor": "white",
            "showbackground": true,
            "ticks": "",
            "zerolinecolor": "white"
           },
           "yaxis": {
            "backgroundcolor": "#E5ECF6",
            "gridcolor": "white",
            "gridwidth": 2,
            "linecolor": "white",
            "showbackground": true,
            "ticks": "",
            "zerolinecolor": "white"
           },
           "zaxis": {
            "backgroundcolor": "#E5ECF6",
            "gridcolor": "white",
            "gridwidth": 2,
            "linecolor": "white",
            "showbackground": true,
            "ticks": "",
            "zerolinecolor": "white"
           }
          },
          "shapedefaults": {
           "line": {
            "color": "#2a3f5f"
           }
          },
          "ternary": {
           "aaxis": {
            "gridcolor": "white",
            "linecolor": "white",
            "ticks": ""
           },
           "baxis": {
            "gridcolor": "white",
            "linecolor": "white",
            "ticks": ""
           },
           "bgcolor": "#E5ECF6",
           "caxis": {
            "gridcolor": "white",
            "linecolor": "white",
            "ticks": ""
           }
          },
          "title": {
           "x": 0.05
          },
          "xaxis": {
           "automargin": true,
           "gridcolor": "white",
           "linecolor": "white",
           "ticks": "",
           "title": {
            "standoff": 15
           },
           "zerolinecolor": "white",
           "zerolinewidth": 2
          },
          "yaxis": {
           "automargin": true,
           "gridcolor": "white",
           "linecolor": "white",
           "ticks": "",
           "title": {
            "standoff": 15
           },
           "zerolinecolor": "white",
           "zerolinewidth": 2
          }
         }
        },
        "title": {
         "text": "different metrics"
        },
        "xaxis": {
         "title": {
          "text": "probability_threshold"
         }
        },
        "yaxis": {
         "title": {
          "text": "Scores"
         }
        }
       }
      },
      "text/html": [
       "<div>                            <div id=\"460b083b-5788-4fed-b1e2-1033ca1c997e\" class=\"plotly-graph-div\" style=\"height:525px; width:100%;\"></div>            <script type=\"text/javascript\">                require([\"plotly\"], function(Plotly) {                    window.PLOTLYENV=window.PLOTLYENV || {};                                    if (document.getElementById(\"460b083b-5788-4fed-b1e2-1033ca1c997e\")) {                    Plotly.newPlot(                        \"460b083b-5788-4fed-b1e2-1033ca1c997e\",                        [{\"name\":\"precision\",\"x\":[0.04944417597372568,0.058737117720484185,0.06383920404840768,0.07139242645704873,0.07754201841243107,0.08220992000211212,0.08787247004252355,0.09229781211949924,0.09743181390248978,0.10390519364850241,0.10859789604240606,0.11261115839640713,0.11849474993831687,0.12180483212363882,0.12683164550860582,0.13081232122088854,0.13560263684964227,0.1415007299403363,0.14838497364283185,0.152032908373009,0.15541146065626665,0.16120674776368285,0.16807976305324024,0.17385153876203768,0.17756843957604476,0.185219681046158,0.19189769406268797,0.19725690420260023,0.20333970390897899,0.20937437913288975,0.21481029339801563,0.22255867578778998,0.2301640924232333,0.23862793807384597,0.246775932575413,0.2508591944836573,0.2577474697767792,0.26249059339363623,0.273166455570682,0.28041169437952096,0.28603309282769623,0.29153138375041754,0.29699049821234763,0.30814331665207967,0.31963383587842753,0.32995263859076923,0.33948915633590904,0.3488812575831495,0.3639129501264432,0.37408006790535253,0.3870611509322481,0.3940319058073275,0.40550947805547505,0.41879590895126534,0.42959616124434213,0.44201011982120764,0.4537035209627742,0.467630986008519,0.4771298147806921,0.49158056105969855,0.5035487198222416,0.5157614176267457,0.5252922403372812,0.5340674453770589,0.5506687038630332,0.5684789045171671,0.5830824963341538,0.5996223048319462,0.6149975414712093,0.625946398055313,0.6431472503387212,0.6571953961117024,0.6735049013207789,0.6911794634104524,0.7030966079768098,0.7181301228445399,0.7337102820970778,0.7457553210192002,0.7666328138631556,0.7814512051982084,0.801254445024142,0.8138336635374206,0.826604523039276,0.8347876740079776,0.8497871833804225,0.8595749011061589,0.8755922481207917,0.8864366039829109,0.8961692002841438,0.9034649899682222,0.9114413708127759,0.9218706254253128,0.9279120197930322,0.9354056039072932,0.9416035372616889,0.949828689083744,0.958118668316868,0.9649795878701748,0.975042982357485],\"y\":[0.4329942503317116,0.43699731903485256,0.44108352144469526,0.4445458694659973,0.4472106961733518,0.44993013507219376,0.4538606403013183,0.4583531651594479,0.4615014436958614,0.46618004866180046,0.4714566929133858,0.4761194029850746,0.48112732762959237,0.48523421588594706,0.4884080370942813,0.4932221063607925,0.49868073878627966,0.5018686599038975,0.5064864864864865,0.5101258894362343,0.5138580931263859,0.5182481751824818,0.5244596131968146,0.5288018433179723,0.5335668417980152,0.5384615384615384,0.5446910617876425,0.5504866180048662,0.5552128315854411,0.5603502188868043,0.5653553299492385,0.5717965228589826,0.5764705882352941,0.581950895819509,0.5876010781671159,0.5909712722298222,0.595552466990966,0.6016949152542372,0.6094759511844939,0.6160583941605839,0.6228656273199703,0.6286792452830189,0.6359447004608295,0.6442533229085223,0.6520700636942676,0.6601784266017843,0.6652892561983471,0.6691919191919192,0.6772532188841202,0.6856392294220666,0.6934763181411975,0.6998175182481752,0.7067039106145251,0.7155090390104663,0.7227626459143969,0.7303482587064677,0.7403258655804481,0.7507820646506778,0.7609391675560299,0.7647702407002188,0.77665544332211,0.7845622119815668,0.7917159763313609,0.805352798053528,0.815,0.8198198198198198,0.8262599469496021,0.8344733242134063,0.8432203389830508,0.8525547445255475,0.8627450980392157,0.875,0.8784440842787682,0.8855218855218855,0.8931698774080561,0.8996350364963503,0.903041825095057,0.9005964214711729,0.9083333333333333,0.9212253829321663,0.9285714285714286,0.9343065693430657,0.9485861182519281,0.9508196721311475,0.956268221574344,0.959375,0.9562289562289562,0.9635036496350365,0.9603174603174603,0.9606986899563319,0.9611650485436893,0.9562841530054644,0.95625,0.9635036496350365,0.9652173913043478,0.9565217391304348,1.0,1.0,1.0],\"type\":\"scatter\"},{\"name\":\"recall\",\"x\":[0.04944417597372568,0.058737117720484185,0.06383920404840768,0.07139242645704873,0.07754201841243107,0.08220992000211212,0.08787247004252355,0.09229781211949924,0.09743181390248978,0.10390519364850241,0.10859789604240606,0.11261115839640713,0.11849474993831687,0.12180483212363882,0.12683164550860582,0.13081232122088854,0.13560263684964227,0.1415007299403363,0.14838497364283185,0.152032908373009,0.15541146065626665,0.16120674776368285,0.16807976305324024,0.17385153876203768,0.17756843957604476,0.185219681046158,0.19189769406268797,0.19725690420260023,0.20333970390897899,0.20937437913288975,0.21481029339801563,0.22255867578778998,0.2301640924232333,0.23862793807384597,0.246775932575413,0.2508591944836573,0.2577474697767792,0.26249059339363623,0.273166455570682,0.28041169437952096,0.28603309282769623,0.29153138375041754,0.29699049821234763,0.30814331665207967,0.31963383587842753,0.32995263859076923,0.33948915633590904,0.3488812575831495,0.3639129501264432,0.37408006790535253,0.3870611509322481,0.3940319058073275,0.40550947805547505,0.41879590895126534,0.42959616124434213,0.44201011982120764,0.4537035209627742,0.467630986008519,0.4771298147806921,0.49158056105969855,0.5035487198222416,0.5157614176267457,0.5252922403372812,0.5340674453770589,0.5506687038630332,0.5684789045171671,0.5830824963341538,0.5996223048319462,0.6149975414712093,0.625946398055313,0.6431472503387212,0.6571953961117024,0.6735049013207789,0.6911794634104524,0.7030966079768098,0.7181301228445399,0.7337102820970778,0.7457553210192002,0.7666328138631556,0.7814512051982084,0.801254445024142,0.8138336635374206,0.826604523039276,0.8347876740079776,0.8497871833804225,0.8595749011061589,0.8755922481207917,0.8864366039829109,0.8961692002841438,0.9034649899682222,0.9114413708127759,0.9218706254253128,0.9279120197930322,0.9354056039072932,0.9416035372616889,0.949828689083744,0.958118668316868,0.9649795878701748,0.975042982357485],\"y\":[0.9979612640163099,0.9969418960244648,0.9959225280326198,0.9928644240570846,0.9887869520897044,0.9847094801223242,0.9826707441386341,0.981651376146789,0.9775739041794088,0.9765545361875637,0.9765545361875637,0.9755351681957186,0.9745158002038736,0.9714576962283384,0.9663608562691132,0.9643221202854231,0.963302752293578,0.9582059123343527,0.9551478083588175,0.9500509683995922,0.944954128440367,0.9408766564729868,0.9398572884811417,0.9357798165137615,0.9317023445463812,0.9276248725790011,0.9255861365953109,0.9225280326197758,0.9174311926605505,0.9133537206931702,0.908256880733945,0.9051987767584098,0.8990825688073395,0.8939857288481141,0.8888888888888888,0.8807339449541285,0.873598369011213,0.8685015290519877,0.8654434250764526,0.8603465851172273,0.855249745158002,0.8491335372069317,0.8440366972477065,0.8399592252803262,0.8348623853211009,0.8297655453618756,0.8205912334352702,0.8103975535168195,0.8042813455657493,0.7981651376146789,0.7910295616717635,0.781855249745158,0.7737003058103975,0.7665647298674821,0.7573904179408767,0.7482161060142711,0.7410805300713558,0.7339449541284404,0.7268093781855249,0.7125382262996942,0.7054026503567788,0.6941896024464832,0.6819571865443425,0.6748216106014271,0.6646279306829765,0.6493374108053007,0.6350662589194699,0.6218144750254841,0.6085626911314985,0.5953109072375128,0.583078491335372,0.5708460754332314,0.5524974515800204,0.5361875637104995,0.5198776758409785,0.5025484199796126,0.4841997961264016,0.4617737003058104,0.4444444444444444,0.4291539245667686,0.4108053007135576,0.39143730886850153,0.3761467889908257,0.3547400611620795,0.3343527013251784,0.3129459734964322,0.28950050968399593,0.2691131498470948,0.24668705402650357,0.22426095820591233,0.2018348623853211,0.1783893985728848,0.1559633027522936,0.1345565749235474,0.11314984709480122,0.08970438328236494,0.07033639143730887,0.046890927624872576,0.023445463812436288],\"type\":\"scatter\"}],                        {\"template\":{\"data\":{\"barpolar\":[{\"marker\":{\"line\":{\"color\":\"#E5ECF6\",\"width\":0.5},\"pattern\":{\"fillmode\":\"overlay\",\"size\":10,\"solidity\":0.2}},\"type\":\"barpolar\"}],\"bar\":[{\"error_x\":{\"color\":\"#2a3f5f\"},\"error_y\":{\"color\":\"#2a3f5f\"},\"marker\":{\"line\":{\"color\":\"#E5ECF6\",\"width\":0.5},\"pattern\":{\"fillmode\":\"overlay\",\"size\":10,\"solidity\":0.2}},\"type\":\"bar\"}],\"carpet\":[{\"aaxis\":{\"endlinecolor\":\"#2a3f5f\",\"gridcolor\":\"white\",\"linecolor\":\"white\",\"minorgridcolor\":\"white\",\"startlinecolor\":\"#2a3f5f\"},\"baxis\":{\"endlinecolor\":\"#2a3f5f\",\"gridcolor\":\"white\",\"linecolor\":\"white\",\"minorgridcolor\":\"white\",\"startlinecolor\":\"#2a3f5f\"},\"type\":\"carpet\"}],\"choropleth\":[{\"colorbar\":{\"outlinewidth\":0,\"ticks\":\"\"},\"type\":\"choropleth\"}],\"contourcarpet\":[{\"colorbar\":{\"outlinewidth\":0,\"ticks\":\"\"},\"type\":\"contourcarpet\"}],\"contour\":[{\"colorbar\":{\"outlinewidth\":0,\"ticks\":\"\"},\"colorscale\":[[0.0,\"#0d0887\"],[0.1111111111111111,\"#46039f\"],[0.2222222222222222,\"#7201a8\"],[0.3333333333333333,\"#9c179e\"],[0.4444444444444444,\"#bd3786\"],[0.5555555555555556,\"#d8576b\"],[0.6666666666666666,\"#ed7953\"],[0.7777777777777778,\"#fb9f3a\"],[0.8888888888888888,\"#fdca26\"],[1.0,\"#f0f921\"]],\"type\":\"contour\"}],\"heatmapgl\":[{\"colorbar\":{\"outlinewidth\":0,\"ticks\":\"\"},\"colorscale\":[[0.0,\"#0d0887\"],[0.1111111111111111,\"#46039f\"],[0.2222222222222222,\"#7201a8\"],[0.3333333333333333,\"#9c179e\"],[0.4444444444444444,\"#bd3786\"],[0.5555555555555556,\"#d8576b\"],[0.6666666666666666,\"#ed7953\"],[0.7777777777777778,\"#fb9f3a\"],[0.8888888888888888,\"#fdca26\"],[1.0,\"#f0f921\"]],\"type\":\"heatmapgl\"}],\"heatmap\":[{\"colorbar\":{\"outlinewidth\":0,\"ticks\":\"\"},\"colorscale\":[[0.0,\"#0d0887\"],[0.1111111111111111,\"#46039f\"],[0.2222222222222222,\"#7201a8\"],[0.3333333333333333,\"#9c179e\"],[0.4444444444444444,\"#bd3786\"],[0.5555555555555556,\"#d8576b\"],[0.6666666666666666,\"#ed7953\"],[0.7777777777777778,\"#fb9f3a\"],[0.8888888888888888,\"#fdca26\"],[1.0,\"#f0f921\"]],\"type\":\"heatmap\"}],\"histogram2dcontour\":[{\"colorbar\":{\"outlinewidth\":0,\"ticks\":\"\"},\"colorscale\":[[0.0,\"#0d0887\"],[0.1111111111111111,\"#46039f\"],[0.2222222222222222,\"#7201a8\"],[0.3333333333333333,\"#9c179e\"],[0.4444444444444444,\"#bd3786\"],[0.5555555555555556,\"#d8576b\"],[0.6666666666666666,\"#ed7953\"],[0.7777777777777778,\"#fb9f3a\"],[0.8888888888888888,\"#fdca26\"],[1.0,\"#f0f921\"]],\"type\":\"histogram2dcontour\"}],\"histogram2d\":[{\"colorbar\":{\"outlinewidth\":0,\"ticks\":\"\"},\"colorscale\":[[0.0,\"#0d0887\"],[0.1111111111111111,\"#46039f\"],[0.2222222222222222,\"#7201a8\"],[0.3333333333333333,\"#9c179e\"],[0.4444444444444444,\"#bd3786\"],[0.5555555555555556,\"#d8576b\"],[0.6666666666666666,\"#ed7953\"],[0.7777777777777778,\"#fb9f3a\"],[0.8888888888888888,\"#fdca26\"],[1.0,\"#f0f921\"]],\"type\":\"histogram2d\"}],\"histogram\":[{\"marker\":{\"pattern\":{\"fillmode\":\"overlay\",\"size\":10,\"solidity\":0.2}},\"type\":\"histogram\"}],\"mesh3d\":[{\"colorbar\":{\"outlinewidth\":0,\"ticks\":\"\"},\"type\":\"mesh3d\"}],\"parcoords\":[{\"line\":{\"colorbar\":{\"outlinewidth\":0,\"ticks\":\"\"}},\"type\":\"parcoords\"}],\"pie\":[{\"automargin\":true,\"type\":\"pie\"}],\"scatter3d\":[{\"line\":{\"colorbar\":{\"outlinewidth\":0,\"ticks\":\"\"}},\"marker\":{\"colorbar\":{\"outlinewidth\":0,\"ticks\":\"\"}},\"type\":\"scatter3d\"}],\"scattercarpet\":[{\"marker\":{\"colorbar\":{\"outlinewidth\":0,\"ticks\":\"\"}},\"type\":\"scattercarpet\"}],\"scattergeo\":[{\"marker\":{\"colorbar\":{\"outlinewidth\":0,\"ticks\":\"\"}},\"type\":\"scattergeo\"}],\"scattergl\":[{\"marker\":{\"colorbar\":{\"outlinewidth\":0,\"ticks\":\"\"}},\"type\":\"scattergl\"}],\"scattermapbox\":[{\"marker\":{\"colorbar\":{\"outlinewidth\":0,\"ticks\":\"\"}},\"type\":\"scattermapbox\"}],\"scatterpolargl\":[{\"marker\":{\"colorbar\":{\"outlinewidth\":0,\"ticks\":\"\"}},\"type\":\"scatterpolargl\"}],\"scatterpolar\":[{\"marker\":{\"colorbar\":{\"outlinewidth\":0,\"ticks\":\"\"}},\"type\":\"scatterpolar\"}],\"scatter\":[{\"fillpattern\":{\"fillmode\":\"overlay\",\"size\":10,\"solidity\":0.2},\"type\":\"scatter\"}],\"scatterternary\":[{\"marker\":{\"colorbar\":{\"outlinewidth\":0,\"ticks\":\"\"}},\"type\":\"scatterternary\"}],\"surface\":[{\"colorbar\":{\"outlinewidth\":0,\"ticks\":\"\"},\"colorscale\":[[0.0,\"#0d0887\"],[0.1111111111111111,\"#46039f\"],[0.2222222222222222,\"#7201a8\"],[0.3333333333333333,\"#9c179e\"],[0.4444444444444444,\"#bd3786\"],[0.5555555555555556,\"#d8576b\"],[0.6666666666666666,\"#ed7953\"],[0.7777777777777778,\"#fb9f3a\"],[0.8888888888888888,\"#fdca26\"],[1.0,\"#f0f921\"]],\"type\":\"surface\"}],\"table\":[{\"cells\":{\"fill\":{\"color\":\"#EBF0F8\"},\"line\":{\"color\":\"white\"}},\"header\":{\"fill\":{\"color\":\"#C8D4E3\"},\"line\":{\"color\":\"white\"}},\"type\":\"table\"}]},\"layout\":{\"annotationdefaults\":{\"arrowcolor\":\"#2a3f5f\",\"arrowhead\":0,\"arrowwidth\":1},\"autotypenumbers\":\"strict\",\"coloraxis\":{\"colorbar\":{\"outlinewidth\":0,\"ticks\":\"\"}},\"colorscale\":{\"diverging\":[[0,\"#8e0152\"],[0.1,\"#c51b7d\"],[0.2,\"#de77ae\"],[0.3,\"#f1b6da\"],[0.4,\"#fde0ef\"],[0.5,\"#f7f7f7\"],[0.6,\"#e6f5d0\"],[0.7,\"#b8e186\"],[0.8,\"#7fbc41\"],[0.9,\"#4d9221\"],[1,\"#276419\"]],\"sequential\":[[0.0,\"#0d0887\"],[0.1111111111111111,\"#46039f\"],[0.2222222222222222,\"#7201a8\"],[0.3333333333333333,\"#9c179e\"],[0.4444444444444444,\"#bd3786\"],[0.5555555555555556,\"#d8576b\"],[0.6666666666666666,\"#ed7953\"],[0.7777777777777778,\"#fb9f3a\"],[0.8888888888888888,\"#fdca26\"],[1.0,\"#f0f921\"]],\"sequentialminus\":[[0.0,\"#0d0887\"],[0.1111111111111111,\"#46039f\"],[0.2222222222222222,\"#7201a8\"],[0.3333333333333333,\"#9c179e\"],[0.4444444444444444,\"#bd3786\"],[0.5555555555555556,\"#d8576b\"],[0.6666666666666666,\"#ed7953\"],[0.7777777777777778,\"#fb9f3a\"],[0.8888888888888888,\"#fdca26\"],[1.0,\"#f0f921\"]]},\"colorway\":[\"#636efa\",\"#EF553B\",\"#00cc96\",\"#ab63fa\",\"#FFA15A\",\"#19d3f3\",\"#FF6692\",\"#B6E880\",\"#FF97FF\",\"#FECB52\"],\"font\":{\"color\":\"#2a3f5f\"},\"geo\":{\"bgcolor\":\"white\",\"lakecolor\":\"white\",\"landcolor\":\"#E5ECF6\",\"showlakes\":true,\"showland\":true,\"subunitcolor\":\"white\"},\"hoverlabel\":{\"align\":\"left\"},\"hovermode\":\"closest\",\"mapbox\":{\"style\":\"light\"},\"paper_bgcolor\":\"white\",\"plot_bgcolor\":\"#E5ECF6\",\"polar\":{\"angularaxis\":{\"gridcolor\":\"white\",\"linecolor\":\"white\",\"ticks\":\"\"},\"bgcolor\":\"#E5ECF6\",\"radialaxis\":{\"gridcolor\":\"white\",\"linecolor\":\"white\",\"ticks\":\"\"}},\"scene\":{\"xaxis\":{\"backgroundcolor\":\"#E5ECF6\",\"gridcolor\":\"white\",\"gridwidth\":2,\"linecolor\":\"white\",\"showbackground\":true,\"ticks\":\"\",\"zerolinecolor\":\"white\"},\"yaxis\":{\"backgroundcolor\":\"#E5ECF6\",\"gridcolor\":\"white\",\"gridwidth\":2,\"linecolor\":\"white\",\"showbackground\":true,\"ticks\":\"\",\"zerolinecolor\":\"white\"},\"zaxis\":{\"backgroundcolor\":\"#E5ECF6\",\"gridcolor\":\"white\",\"gridwidth\":2,\"linecolor\":\"white\",\"showbackground\":true,\"ticks\":\"\",\"zerolinecolor\":\"white\"}},\"shapedefaults\":{\"line\":{\"color\":\"#2a3f5f\"}},\"ternary\":{\"aaxis\":{\"gridcolor\":\"white\",\"linecolor\":\"white\",\"ticks\":\"\"},\"baxis\":{\"gridcolor\":\"white\",\"linecolor\":\"white\",\"ticks\":\"\"},\"bgcolor\":\"#E5ECF6\",\"caxis\":{\"gridcolor\":\"white\",\"linecolor\":\"white\",\"ticks\":\"\"}},\"title\":{\"x\":0.05},\"xaxis\":{\"automargin\":true,\"gridcolor\":\"white\",\"linecolor\":\"white\",\"ticks\":\"\",\"title\":{\"standoff\":15},\"zerolinecolor\":\"white\",\"zerolinewidth\":2},\"yaxis\":{\"automargin\":true,\"gridcolor\":\"white\",\"linecolor\":\"white\",\"ticks\":\"\",\"title\":{\"standoff\":15},\"zerolinecolor\":\"white\",\"zerolinewidth\":2}}},\"title\":{\"text\":\"different metrics\"},\"xaxis\":{\"title\":{\"text\":\"probability_threshold\"}},\"yaxis\":{\"title\":{\"text\":\"Scores\"}}},                        {\"responsive\": true}                    ).then(function(){\n",
       "                            \n",
       "var gd = document.getElementById('460b083b-5788-4fed-b1e2-1033ca1c997e');\n",
       "var x = new MutationObserver(function (mutations, observer) {{\n",
       "        var display = window.getComputedStyle(gd).display;\n",
       "        if (!display || display === 'none') {{\n",
       "            console.log([gd, 'removed!']);\n",
       "            Plotly.purge(gd);\n",
       "            observer.disconnect();\n",
       "        }}\n",
       "}});\n",
       "\n",
       "// Listen for the removal of the full notebook cells\n",
       "var notebookContainer = gd.closest('#notebook-container');\n",
       "if (notebookContainer) {{\n",
       "    x.observe(notebookContainer, {childList: true});\n",
       "}}\n",
       "\n",
       "// Listen for the clearing of the current output cell\n",
       "var outputEl = gd.closest('.output');\n",
       "if (outputEl) {{\n",
       "    x.observe(outputEl, {childList: true});\n",
       "}}\n",
       "\n",
       "                        })                };                });            </script>        </div>"
      ]
     },
     "metadata": {},
     "output_type": "display_data"
    }
   ],
   "source": [
    "## Also we can check the threshold on the chart. \n",
    "# The point where precision and recall curves are crossed is close to the best threshold\n",
    "perc_lst, prec_lst, recall_lst = get_scores(y_test_np, y_predict_prob[:,1], mode='prob')"
   ]
  },
  {
   "cell_type": "code",
   "execution_count": 36,
   "id": "989b763a",
   "metadata": {},
   "outputs": [],
   "source": [
    "best_treshold=0.453\n",
    "y_val = best_model.predict_proba(X_test_svd_f)[:,1]"
   ]
  },
  {
   "cell_type": "code",
   "execution_count": 40,
   "id": "77e5c5ad",
   "metadata": {},
   "outputs": [],
   "source": [
    "### for kaggle\n",
    "df_test_valid = pd.read_csv(\"../data/test.csv\")\n",
    "y_predict_val = best_model.predict(X_test_svd_f)\n",
    "df_t = df_test_valid[['id']]\n",
    "df_t['target'] = (y_val >= .5).astype(int)\n",
    "df_t.to_csv(\"catboost_4.csv\", index=False)"
   ]
  },
  {
   "cell_type": "code",
   "execution_count": 41,
   "id": "5bebabd9",
   "metadata": {},
   "outputs": [
    {
     "data": {
      "text/html": [
       "<div>\n",
       "<style scoped>\n",
       "    .dataframe tbody tr th:only-of-type {\n",
       "        vertical-align: middle;\n",
       "    }\n",
       "\n",
       "    .dataframe tbody tr th {\n",
       "        vertical-align: top;\n",
       "    }\n",
       "\n",
       "    .dataframe thead th {\n",
       "        text-align: right;\n",
       "    }\n",
       "</style>\n",
       "<table border=\"1\" class=\"dataframe\">\n",
       "  <thead>\n",
       "    <tr style=\"text-align: right;\">\n",
       "      <th></th>\n",
       "      <th>id</th>\n",
       "      <th>target</th>\n",
       "    </tr>\n",
       "  </thead>\n",
       "  <tbody>\n",
       "    <tr>\n",
       "      <th>count</th>\n",
       "      <td>3263.000000</td>\n",
       "      <td>3263.000000</td>\n",
       "    </tr>\n",
       "    <tr>\n",
       "      <th>mean</th>\n",
       "      <td>5427.152927</td>\n",
       "      <td>0.356727</td>\n",
       "    </tr>\n",
       "    <tr>\n",
       "      <th>std</th>\n",
       "      <td>3146.427221</td>\n",
       "      <td>0.479107</td>\n",
       "    </tr>\n",
       "    <tr>\n",
       "      <th>min</th>\n",
       "      <td>0.000000</td>\n",
       "      <td>0.000000</td>\n",
       "    </tr>\n",
       "    <tr>\n",
       "      <th>25%</th>\n",
       "      <td>2683.000000</td>\n",
       "      <td>0.000000</td>\n",
       "    </tr>\n",
       "    <tr>\n",
       "      <th>50%</th>\n",
       "      <td>5500.000000</td>\n",
       "      <td>0.000000</td>\n",
       "    </tr>\n",
       "    <tr>\n",
       "      <th>75%</th>\n",
       "      <td>8176.000000</td>\n",
       "      <td>1.000000</td>\n",
       "    </tr>\n",
       "    <tr>\n",
       "      <th>max</th>\n",
       "      <td>10875.000000</td>\n",
       "      <td>1.000000</td>\n",
       "    </tr>\n",
       "  </tbody>\n",
       "</table>\n",
       "</div>"
      ],
      "text/plain": [
       "                 id       target\n",
       "count   3263.000000  3263.000000\n",
       "mean    5427.152927     0.356727\n",
       "std     3146.427221     0.479107\n",
       "min        0.000000     0.000000\n",
       "25%     2683.000000     0.000000\n",
       "50%     5500.000000     0.000000\n",
       "75%     8176.000000     1.000000\n",
       "max    10875.000000     1.000000"
      ]
     },
     "execution_count": 41,
     "metadata": {},
     "output_type": "execute_result"
    }
   ],
   "source": [
    "df_t.describe()"
   ]
  },
  {
   "cell_type": "code",
   "execution_count": null,
   "id": "0455646f",
   "metadata": {},
   "outputs": [],
   "source": [
    "### with treshold = .5 the result on kaggle is better =_="
   ]
  }
 ],
 "metadata": {
  "kernelspec": {
   "display_name": "Python 3 (ipykernel)",
   "language": "python",
   "name": "python3"
  },
  "language_info": {
   "codemirror_mode": {
    "name": "ipython",
    "version": 3
   },
   "file_extension": ".py",
   "mimetype": "text/x-python",
   "name": "python",
   "nbconvert_exporter": "python",
   "pygments_lexer": "ipython3",
   "version": "3.9.12"
  }
 },
 "nbformat": 4,
 "nbformat_minor": 5
}
